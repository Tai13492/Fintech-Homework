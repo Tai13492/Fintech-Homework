{
 "cells": [
  {
   "cell_type": "code",
   "execution_count": 1,
   "metadata": {},
   "outputs": [],
   "source": [
    "# import mpl_finance\n",
    "# import matplotlib.dates as mdates \n",
    "from talib import MA,STOCH\n",
    "import pandas as pd\n",
    "import matplotlib.pyplot as plt\n",
    "import numpy as np"
   ]
  },
  {
   "cell_type": "code",
   "execution_count": 2,
   "metadata": {},
   "outputs": [],
   "source": [
    "START_OF_2018 = 6044\n",
    "START_OF_2017 = 5793\n",
    "TIME_STEP = 30"
   ]
  },
  {
   "cell_type": "code",
   "execution_count": 3,
   "metadata": {},
   "outputs": [],
   "source": [
    "# big_four = df[[\"Date\", \"Open\", \"High\", \"Low\", \"Close\"]] 6046 -> 6044 (2018)\n",
    "# big_four_2018 = big_four[START_OF_2018:] 5795 -> 5793 (2017)\n",
    "# ax = plt.subplot()\n",
    "# mpl_finance.candlestick_ohlc(ax, big_four_2018, width=5, colorup='g', colordown='r')\n",
    "# ax.xaxis_date()\n",
    "# ax.grid(True)\n",
    "# plt.show()\n",
    "# date_2018 = df[START_OF_2018:][\"Date\"]"
   ]
  },
  {
   "cell_type": "code",
   "execution_count": 4,
   "metadata": {},
   "outputs": [],
   "source": [
    "df = pd.read_csv(\"SPY.csv\",date_parser=True)"
   ]
  },
  {
   "cell_type": "code",
   "execution_count": 5,
   "metadata": {},
   "outputs": [],
   "source": [
    "df_train = df[ df[\"Date\"]<'2017-01-01' ].copy()\n",
    "df_validation = df[(df['Date'] >= '2017-01-01') & (df['Date'] < \"2018-01-01\")].copy()\n",
    "df_plot = df[df[\"Date\"] >= \"2018-01-01\"].copy()\n",
    "# df_validation.tail()"
   ]
  },
  {
   "cell_type": "markdown",
   "metadata": {},
   "source": [
    "# Graph Plotting"
   ]
  },
  {
   "cell_type": "code",
   "execution_count": 6,
   "metadata": {},
   "outputs": [],
   "source": [
    "# ma_10_2018 = MA(df[START_OF_2018 - 10:][\"Close\"], timeperiod=10, matype=0)\n",
    "# ma_30_2018 = MA(df[START_OF_2018 - 30:][\"Close\"], timeperiod=30, matype=0)\n",
    "# df_2018_neg8 = df[START_OF_2018-8:]\n",
    "# k_2018, d_2018 = STOCH(df_2018_neg8[\"High\"], df_2018_neg8[\"Low\"], df_2018_neg8[\"Close\"], fastk_period=5, slowk_period=3, slowk_matype=0, slowd_period=3, slowd_matype=0)\n",
    "\n",
    "# plt.plot(np.arange(len(ma_10_2018) - 10), ma_10_2018[10:], label=\"MA-10\")\n",
    "# plt.plot(np.arange(len(ma_30_2018) - 30), ma_30_2018[30:], label=\"MA-30\")\n",
    "# plt.legend()\n",
    "# plt.show()"
   ]
  },
  {
   "cell_type": "markdown",
   "metadata": {},
   "source": [
    "# Add Technical Analysis"
   ]
  },
  {
   "cell_type": "code",
   "execution_count": 7,
   "metadata": {},
   "outputs": [],
   "source": [
    "ma_10_train = MA(df_train[\"Close\"], timeperiod=10, matype=0)\n",
    "ma_30_train = MA(df_train[\"Close\"], timeperiod=30, matype=0)\n",
    "k_train, d_train = STOCH(df_train[\"High\"], df_train[\"Low\"], df_train[\"Close\"],fastk_period=5, slowk_period=3, slowk_matype=0, slowd_period=3, slowd_matype=0)\n",
    "df_train[\"MA10\"] = ma_10_train\n",
    "df_train[\"MA30\"] = ma_30_train\n",
    "df_train[\"K\"] = k_train\n",
    "df_train[\"D\"] = d_train\n",
    "\n",
    "ma_10_validation = MA(df_validation[\"Close\"], timeperiod=10, matype=0)\n",
    "ma_30_validation = MA(df_validation[\"Close\"], timeperiod=30, matype=0)\n",
    "k_validation, d_validation = STOCH(df_validation[\"High\"], df_validation[\"Low\"], df_validation[\"Close\"],fastk_period=5, slowk_period=3, slowk_matype=0, slowd_period=3, slowd_matype=0)\n",
    "df_validation[\"MA10\"] = ma_10_validation\n",
    "df_validation[\"MA30\"] = ma_30_validation\n",
    "df_validation[\"K\"] = k_validation\n",
    "df_validation[\"D\"] = d_validation"
   ]
  },
  {
   "cell_type": "code",
   "execution_count": 8,
   "metadata": {},
   "outputs": [
    {
     "data": {
      "text/plain": [
       "(251, 11)"
      ]
     },
     "execution_count": 8,
     "metadata": {},
     "output_type": "execute_result"
    }
   ],
   "source": [
    "df_validation.shape"
   ]
  },
  {
   "cell_type": "markdown",
   "metadata": {},
   "source": [
    "## Drop dates and NA"
   ]
  },
  {
   "cell_type": "code",
   "execution_count": 9,
   "metadata": {},
   "outputs": [],
   "source": [
    "df_train = df_train.dropna(axis=0)\n",
    "df_train = df_train.drop([\"Date\"], axis=1)\n",
    "\n",
    "df_validation = df_validation.dropna(axis=0)\n",
    "df_validation = df_validation.drop([\"Date\"], axis=1)"
   ]
  },
  {
   "cell_type": "code",
   "execution_count": 13,
   "metadata": {},
   "outputs": [
    {
     "data": {
      "text/plain": [
       "(222, 10)"
      ]
     },
     "execution_count": 13,
     "metadata": {},
     "output_type": "execute_result"
    }
   ],
   "source": [
    "df_validation.shape"
   ]
  },
  {
   "cell_type": "markdown",
   "metadata": {},
   "source": [
    "## Normalize data"
   ]
  },
  {
   "cell_type": "code",
   "execution_count": 15,
   "metadata": {},
   "outputs": [],
   "source": [
    "def normalizeDataframe(data_frame):\n",
    "    normalize_df = data_frame.copy()\n",
    "    for column in normalize_df.columns:\n",
    "        min_value = min(normalize_df[column])\n",
    "        max_value = max(normalize_df[column])\n",
    "        normalize_df[column] = (normalize_df[column] - min_value) / (max_value - min_value)\n",
    "    return normalize_df"
   ]
  },
  {
   "cell_type": "code",
   "execution_count": 16,
   "metadata": {},
   "outputs": [],
   "source": [
    "df_train = normalizeDataframe(df_train)\n",
    "df_validation = normalizeDataframe(df_validation)"
   ]
  },
  {
   "cell_type": "code",
   "execution_count": 19,
   "metadata": {},
   "outputs": [
    {
     "data": {
      "text/plain": [
       "(222, 10)"
      ]
     },
     "execution_count": 19,
     "metadata": {},
     "output_type": "execute_result"
    }
   ],
   "source": [
    "df_validation.shape"
   ]
  },
  {
   "cell_type": "markdown",
   "metadata": {},
   "source": [
    "## Prepare X, y train and validation for RNN"
   ]
  },
  {
   "cell_type": "code",
   "execution_count": 20,
   "metadata": {},
   "outputs": [],
   "source": [
    "data_train = df_train.values\n",
    "data_validation = df_validation.values"
   ]
  },
  {
   "cell_type": "code",
   "execution_count": 21,
   "metadata": {},
   "outputs": [],
   "source": [
    "X_train = []\n",
    "y_train = []\n",
    "X_validation = []\n",
    "y_validation = []"
   ]
  },
  {
   "cell_type": "code",
   "execution_count": 22,
   "metadata": {},
   "outputs": [],
   "source": [
    "for i in range(30,data_train.shape[0]):\n",
    "    X_train.append(data_train[i-30:i])\n",
    "    y_train.append(data_train[i, 0])\n",
    "\n",
    "for i in range(30, data_validation.shape[0]):\n",
    "    X_validation.append(data_validation[i-30:i])\n",
    "    y_validation.append(data_validation[i,0])"
   ]
  },
  {
   "cell_type": "code",
   "execution_count": 23,
   "metadata": {},
   "outputs": [],
   "source": [
    "X_train, y_train = np.array(X_train), np.array(y_train)\n",
    "X_validation, y_validation = np.array(X_validation), np.array(y_validation)"
   ]
  },
  {
   "cell_type": "code",
   "execution_count": 31,
   "metadata": {},
   "outputs": [
    {
     "data": {
      "text/plain": [
       "(5734,)"
      ]
     },
     "execution_count": 31,
     "metadata": {},
     "output_type": "execute_result"
    }
   ],
   "source": [
    "X_train.shape\n",
    "y_train.shape"
   ]
  },
  {
   "cell_type": "markdown",
   "metadata": {},
   "source": [
    "# Building LSTM"
   ]
  },
  {
   "cell_type": "code",
   "execution_count": 26,
   "metadata": {},
   "outputs": [],
   "source": [
    "from tensorflow.keras import Sequential\n",
    "from tensorflow.keras.layers import Dense, LSTM, Dropout"
   ]
  },
  {
   "cell_type": "code",
   "execution_count": 27,
   "metadata": {},
   "outputs": [],
   "source": [
    "regressior = Sequential()\n",
    "\n",
    "regressior.add(LSTM(units = 60, activation = 'relu', return_sequences = True, input_shape = (X_train.shape[1], X_train.shape[2])))\n",
    "regressior.add(Dropout(0.2))\n",
    "\n",
    "regressior.add(LSTM(units = 60, activation = 'relu', return_sequences = True))\n",
    "regressior.add(Dropout(0.2))\n",
    "\n",
    "regressior.add(LSTM(units = 80, activation = 'relu', return_sequences = True))\n",
    "regressior.add(Dropout(0.2))\n",
    "\n",
    "regressior.add(LSTM(units = 120, activation = 'relu'))\n",
    "regressior.add(Dropout(0.2))\n",
    "\n",
    "regressior.add(Dense(units = 1))"
   ]
  },
  {
   "cell_type": "code",
   "execution_count": 28,
   "metadata": {},
   "outputs": [
    {
     "name": "stdout",
     "output_type": "stream",
     "text": [
      "Model: \"sequential\"\n",
      "_________________________________________________________________\n",
      "Layer (type)                 Output Shape              Param #   \n",
      "=================================================================\n",
      "lstm (LSTM)                  (None, 30, 60)            17040     \n",
      "_________________________________________________________________\n",
      "dropout (Dropout)            (None, 30, 60)            0         \n",
      "_________________________________________________________________\n",
      "lstm_1 (LSTM)                (None, 30, 60)            29040     \n",
      "_________________________________________________________________\n",
      "dropout_1 (Dropout)          (None, 30, 60)            0         \n",
      "_________________________________________________________________\n",
      "lstm_2 (LSTM)                (None, 30, 80)            45120     \n",
      "_________________________________________________________________\n",
      "dropout_2 (Dropout)          (None, 30, 80)            0         \n",
      "_________________________________________________________________\n",
      "lstm_3 (LSTM)                (None, 120)               96480     \n",
      "_________________________________________________________________\n",
      "dropout_3 (Dropout)          (None, 120)               0         \n",
      "_________________________________________________________________\n",
      "dense (Dense)                (None, 1)                 121       \n",
      "=================================================================\n",
      "Total params: 187,801\n",
      "Trainable params: 187,801\n",
      "Non-trainable params: 0\n",
      "_________________________________________________________________\n"
     ]
    }
   ],
   "source": [
    "regressior.summary()"
   ]
  },
  {
   "cell_type": "code",
   "execution_count": 29,
   "metadata": {},
   "outputs": [],
   "source": [
    "regressior.compile(optimizer='adam', loss = 'mean_squared_error')"
   ]
  },
  {
   "cell_type": "code",
   "execution_count": 30,
   "metadata": {},
   "outputs": [
    {
     "name": "stdout",
     "output_type": "stream",
     "text": [
      "Train on 5734 samples, validate on 192 samples\n",
      "Epoch 1/64\n",
      "5734/5734 [==============================] - 18s 3ms/sample - loss: 0.0198 - val_loss: 0.0090\n",
      "Epoch 2/64\n",
      "5734/5734 [==============================] - 11s 2ms/sample - loss: 0.0027 - val_loss: 0.0068\n",
      "Epoch 3/64\n",
      "5734/5734 [==============================] - 12s 2ms/sample - loss: 0.0027 - val_loss: 0.0064\n",
      "Epoch 4/64\n",
      "5734/5734 [==============================] - 12s 2ms/sample - loss: 0.0023 - val_loss: 0.0050\n",
      "Epoch 5/64\n",
      "5734/5734 [==============================] - 12s 2ms/sample - loss: 0.0021 - val_loss: 0.0113\n",
      "Epoch 6/64\n",
      "5734/5734 [==============================] - 13s 2ms/sample - loss: 0.0019 - val_loss: 0.0101\n",
      "Epoch 7/64\n",
      "5734/5734 [==============================] - 14s 2ms/sample - loss: 0.0020 - val_loss: 0.0107\n",
      "Epoch 8/64\n",
      "5734/5734 [==============================] - 14s 2ms/sample - loss: 0.0019 - val_loss: 0.0122\n",
      "Epoch 9/64\n",
      "5734/5734 [==============================] - 14s 2ms/sample - loss: 0.0018 - val_loss: 0.0085\n",
      "Epoch 10/64\n",
      "5734/5734 [==============================] - 14s 2ms/sample - loss: 0.0017 - val_loss: 0.0112\n",
      "Epoch 11/64\n",
      "5734/5734 [==============================] - 14s 2ms/sample - loss: 0.0015 - val_loss: 0.0124\n",
      "Epoch 12/64\n",
      "5734/5734 [==============================] - 14s 2ms/sample - loss: 0.0016 - val_loss: 0.0108\n",
      "Epoch 13/64\n",
      "5734/5734 [==============================] - 14s 2ms/sample - loss: 0.0015 - val_loss: 0.0111\n",
      "Epoch 14/64\n",
      "5734/5734 [==============================] - 14s 2ms/sample - loss: 0.0014 - val_loss: 0.0093\n",
      "Epoch 15/64\n",
      "5734/5734 [==============================] - 16s 3ms/sample - loss: 0.0014 - val_loss: 0.0127\n",
      "Epoch 16/64\n",
      "5734/5734 [==============================] - 15s 3ms/sample - loss: 0.0013 - val_loss: 0.0140\n",
      "Epoch 17/64\n",
      "5734/5734 [==============================] - 14s 2ms/sample - loss: 0.0013 - val_loss: 0.0136\n",
      "Epoch 18/64\n",
      "5734/5734 [==============================] - 14s 3ms/sample - loss: 0.0013 - val_loss: 0.0116\n",
      "Epoch 19/64\n",
      "5734/5734 [==============================] - 15s 3ms/sample - loss: 0.0012 - val_loss: 0.0109\n",
      "Epoch 20/64\n",
      "5734/5734 [==============================] - 15s 3ms/sample - loss: 0.0012 - val_loss: 0.0132\n",
      "Epoch 21/64\n",
      "5734/5734 [==============================] - 15s 3ms/sample - loss: 0.0012 - val_loss: 0.0089\n",
      "Epoch 22/64\n",
      "5734/5734 [==============================] - 15s 3ms/sample - loss: 0.0012 - val_loss: 0.0109\n",
      "Epoch 23/64\n",
      "5734/5734 [==============================] - 15s 3ms/sample - loss: 0.0011 - val_loss: 0.0119\n",
      "Epoch 24/64\n",
      "5734/5734 [==============================] - 15s 3ms/sample - loss: 9.7605e-04 - val_loss: 0.0096\n",
      "Epoch 25/64\n",
      "5734/5734 [==============================] - 15s 3ms/sample - loss: 9.8451e-04 - val_loss: 0.0082\n",
      "Epoch 26/64\n",
      "5734/5734 [==============================] - 15s 3ms/sample - loss: 9.6164e-04 - val_loss: 0.0099\n",
      "Epoch 27/64\n",
      "5734/5734 [==============================] - 15s 3ms/sample - loss: 9.0366e-04 - val_loss: 0.0089\n",
      "Epoch 28/64\n",
      "5734/5734 [==============================] - 15s 3ms/sample - loss: 8.5289e-04 - val_loss: 0.0115\n",
      "Epoch 29/64\n",
      "5734/5734 [==============================] - 15s 3ms/sample - loss: 8.2516e-04 - val_loss: 0.0096\n",
      "Epoch 30/64\n",
      "5734/5734 [==============================] - 15s 3ms/sample - loss: 8.2607e-04 - val_loss: 0.0118\n",
      "Epoch 31/64\n",
      "5734/5734 [==============================] - 15s 3ms/sample - loss: 8.4209e-04 - val_loss: 0.0116\n",
      "Epoch 32/64\n",
      "5734/5734 [==============================] - 14s 3ms/sample - loss: 7.9738e-04 - val_loss: 0.0101\n",
      "Epoch 33/64\n",
      "5734/5734 [==============================] - 15s 3ms/sample - loss: 8.0160e-04 - val_loss: 0.0103\n",
      "Epoch 34/64\n",
      "5734/5734 [==============================] - 15s 3ms/sample - loss: 7.1585e-04 - val_loss: 0.0101\n",
      "Epoch 35/64\n",
      "5734/5734 [==============================] - 14s 2ms/sample - loss: 7.4759e-04 - val_loss: 0.0102\n",
      "Epoch 36/64\n",
      "5734/5734 [==============================] - 14s 3ms/sample - loss: 7.3556e-04 - val_loss: 0.0089\n",
      "Epoch 37/64\n",
      "5734/5734 [==============================] - 15s 3ms/sample - loss: 7.1425e-04 - val_loss: 0.0095\n",
      "Epoch 38/64\n",
      "5734/5734 [==============================] - 15s 3ms/sample - loss: 6.6949e-04 - val_loss: 0.0103\n",
      "Epoch 39/64\n",
      "5734/5734 [==============================] - 15s 3ms/sample - loss: 6.6196e-04 - val_loss: 0.0094\n",
      "Epoch 40/64\n",
      "5734/5734 [==============================] - 15s 3ms/sample - loss: 6.6276e-04 - val_loss: 0.0099\n",
      "Epoch 41/64\n",
      "5734/5734 [==============================] - 17s 3ms/sample - loss: 6.6417e-04 - val_loss: 0.0109\n",
      "Epoch 42/64\n",
      "5734/5734 [==============================] - 16s 3ms/sample - loss: 6.7310e-04 - val_loss: 0.0098\n",
      "Epoch 43/64\n",
      "5734/5734 [==============================] - 15s 3ms/sample - loss: 5.8242e-04 - val_loss: 0.0110\n",
      "Epoch 44/64\n",
      "5734/5734 [==============================] - 15s 3ms/sample - loss: 6.5413e-04 - val_loss: 0.0090\n",
      "Epoch 45/64\n",
      "5734/5734 [==============================] - 15s 3ms/sample - loss: 6.2185e-04 - val_loss: 0.0098\n",
      "Epoch 46/64\n",
      "5734/5734 [==============================] - 14s 2ms/sample - loss: 5.7287e-04 - val_loss: 0.0096\n",
      "Epoch 47/64\n",
      "5734/5734 [==============================] - 16s 3ms/sample - loss: 6.0574e-04 - val_loss: 0.0102\n",
      "Epoch 48/64\n",
      "5734/5734 [==============================] - 14s 2ms/sample - loss: 5.8694e-04 - val_loss: 0.0096\n",
      "Epoch 49/64\n",
      "5734/5734 [==============================] - 14s 2ms/sample - loss: 5.8430e-04 - val_loss: 0.0098\n",
      "Epoch 50/64\n",
      "5734/5734 [==============================] - 15s 3ms/sample - loss: 5.5150e-04 - val_loss: 0.0110\n",
      "Epoch 51/64\n",
      "5734/5734 [==============================] - 15s 3ms/sample - loss: 5.4336e-04 - val_loss: 0.0086\n",
      "Epoch 52/64\n",
      "5734/5734 [==============================] - 15s 3ms/sample - loss: 5.5878e-04 - val_loss: 0.0085\n",
      "Epoch 53/64\n",
      "5734/5734 [==============================] - 15s 3ms/sample - loss: 5.4880e-04 - val_loss: 0.0090\n",
      "Epoch 54/64\n",
      "5734/5734 [==============================] - 15s 3ms/sample - loss: 5.3589e-04 - val_loss: 0.0097\n",
      "Epoch 55/64\n",
      "5734/5734 [==============================] - 16s 3ms/sample - loss: 5.0201e-04 - val_loss: 0.0080\n",
      "Epoch 56/64\n",
      "5734/5734 [==============================] - 16s 3ms/sample - loss: 4.8505e-04 - val_loss: 0.0086\n",
      "Epoch 57/64\n",
      "5734/5734 [==============================] - 15s 3ms/sample - loss: 5.1517e-04 - val_loss: 0.0094\n",
      "Epoch 58/64\n",
      "5734/5734 [==============================] - 15s 3ms/sample - loss: 5.2683e-04 - val_loss: 0.0097\n",
      "Epoch 59/64\n",
      "5734/5734 [==============================] - 15s 3ms/sample - loss: 5.0631e-04 - val_loss: 0.0087\n",
      "Epoch 60/64\n",
      "5734/5734 [==============================] - 14s 3ms/sample - loss: 4.8205e-04 - val_loss: 0.0092\n",
      "Epoch 61/64\n",
      "5734/5734 [==============================] - 15s 3ms/sample - loss: 5.0571e-04 - val_loss: 0.0104\n",
      "Epoch 62/64\n",
      "5734/5734 [==============================] - 14s 3ms/sample - loss: 5.4653e-04 - val_loss: 0.0082\n",
      "Epoch 63/64\n",
      "5734/5734 [==============================] - 15s 3ms/sample - loss: 4.7880e-04 - val_loss: 0.0099\n",
      "Epoch 64/64\n",
      "5734/5734 [==============================] - 16s 3ms/sample - loss: 4.7980e-04 - val_loss: 0.0084\n"
     ]
    },
    {
     "data": {
      "text/plain": [
       "<tensorflow.python.keras.callbacks.History at 0x1c857c32b48>"
      ]
     },
     "execution_count": 30,
     "metadata": {},
     "output_type": "execute_result"
    }
   ],
   "source": [
    "regressior.fit(X_train, y_train, epochs=64, batch_size=60, validation_data = (X_validation, y_validation))"
   ]
  },
  {
   "cell_type": "code",
   "execution_count": null,
   "metadata": {},
   "outputs": [],
   "source": [
    "# ma_10_2017 = MA(df[START_OF_2017 - 10 : START_OF_2018][\"Close\"], timeperiod=10, matype=0)\n",
    "# ma_30_2017 = MA(df[START_OF_2017 - 30 : START_OF_2018][\"Close\"], timeperiod=30, matype=0)\n",
    "# df_2017_neg8 = df[START_OF_2017 - 8 : START_OF_2018]\n",
    "# k_2017, d_2017 = STOCH(df_2017_neg8[\"High\"], df_2017_neg8[\"Low\"], df_2017_neg8[\"Close\"], fastk_period=5, slowk_period=3, slowk_matype=0, slowd_period=3, slowd_matype=0)"
   ]
  },
  {
   "cell_type": "code",
   "execution_count": 24,
   "metadata": {},
   "outputs": [
    {
     "name": "stdout",
     "output_type": "stream",
     "text": [
      "5793\n",
      "5793\n",
      "5793\n",
      "5793\n"
     ]
    }
   ],
   "source": [
    "# def removeNanFromNumpyArray(numpy_array):\n",
    "#     temp = numpy_array.copy()\n",
    "#     temp = temp[np.logical_not(np.isnan(temp))]\n",
    "#     return temp\n",
    "# print(len(ma_10_train))\n",
    "# print(len(ma_30_train))\n",
    "# print(len(k_train))\n",
    "# print(len(d_train))"
   ]
  },
  {
   "cell_type": "code",
   "execution_count": 25,
   "metadata": {},
   "outputs": [],
   "source": [
    "# ma_10_train = removeNanFromNumpyArray(ma_10_train)\n",
    "# ma_30_train = removeNanFromNumpyArray(ma_30_train)\n",
    "# k_train = removeNanFromNumpyArray(k_train)\n",
    "# d_train = removeNanFromNumpyArray(d_train)"
   ]
  },
  {
   "cell_type": "code",
   "execution_count": 26,
   "metadata": {},
   "outputs": [],
   "source": [
    "# def normalizeNumpyArray(numpy_array):\n",
    "#     min_val = min(numpy_array)\n",
    "#     max_val = max(numpy_array)\n",
    "#     normalize_equation = lambda x: (x - min_val)/(max_val - min_val)\n",
    "#     normalized_numpy_array = np.array([normalize_equation(x) for x in numpy_array])\n",
    "#     return normalized_numpy_array\n",
    "    "
   ]
  },
  {
   "cell_type": "code",
   "execution_count": 27,
   "metadata": {},
   "outputs": [],
   "source": [
    "# ma_10_train = normalizeNumpyArray(ma_10_train)\n",
    "# ma_30_train = normalizeNumpyArray(ma_30_train)\n",
    "# k_train = normalizeNumpyArray(k_train)\n",
    "# d_train = normalizeNumpyArray(d_train)"
   ]
  },
  {
   "cell_type": "code",
   "execution_count": 28,
   "metadata": {},
   "outputs": [
    {
     "name": "stdout",
     "output_type": "stream",
     "text": [
      "5784\n",
      "5764\n",
      "5785\n",
      "5785\n",
      "(5793, 7)\n"
     ]
    }
   ],
   "source": [
    "# print(len(ma_10_train))\n",
    "# print(len(ma_30_train))\n",
    "# print(len(k_train))\n",
    "# print(len(d_train))\n",
    "# print(df_train.shape)"
   ]
  },
  {
   "cell_type": "code",
   "execution_count": 29,
   "metadata": {},
   "outputs": [],
   "source": [
    "# ma_10_train = ma_10_train[20:]\n",
    "# k_train = k_train[21:]\n",
    "# d_train = d_train[21:]"
   ]
  },
  {
   "cell_type": "code",
   "execution_count": 30,
   "metadata": {},
   "outputs": [
    {
     "name": "stdout",
     "output_type": "stream",
     "text": [
      "5764\n",
      "5764\n",
      "5764\n",
      "5764\n"
     ]
    }
   ],
   "source": [
    "# print(len(ma_10_train))\n",
    "# print(len(ma_30_train))\n",
    "# print(len(k_train))\n",
    "# print(len(d_train))"
   ]
  },
  {
   "cell_type": "code",
   "execution_count": null,
   "metadata": {},
   "outputs": [],
   "source": []
  }
 ],
 "metadata": {
  "kernelspec": {
   "display_name": "Python 3",
   "language": "python",
   "name": "python3"
  },
  "language_info": {
   "codemirror_mode": {
    "name": "ipython",
    "version": 3
   },
   "file_extension": ".py",
   "mimetype": "text/x-python",
   "name": "python",
   "nbconvert_exporter": "python",
   "pygments_lexer": "ipython3",
   "version": "3.7.4"
  }
 },
 "nbformat": 4,
 "nbformat_minor": 2
}
