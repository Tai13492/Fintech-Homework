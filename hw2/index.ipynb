{
 "cells": [
  {
   "cell_type": "code",
   "execution_count": 1,
   "metadata": {},
   "outputs": [],
   "source": [
    "import pandas as pd"
   ]
  },
  {
   "cell_type": "code",
   "execution_count": 2,
   "metadata": {},
   "outputs": [],
   "source": [
    "df = pd.read_csv('data.csv')\n",
    "for col in ['Time','Amount']:\n",
    "    mean = df[col].mean()\n",
    "    std = df[col].std()\n",
    "    df[col] = (df[col] - mean) / std\n"
   ]
  },
  {
   "cell_type": "code",
   "execution_count": 3,
   "metadata": {},
   "outputs": [],
   "source": [
    "def convertOneHotToBinary(arr):\n",
    "    temp = []\n",
    "    for row in arr:\n",
    "        if(row[0] > row[1]):\n",
    "            temp.append(0)\n",
    "        else:\n",
    "            temp.append(1)\n",
    "    return temp"
   ]
  },
  {
   "cell_type": "code",
   "execution_count": 4,
   "metadata": {},
   "outputs": [],
   "source": [
    "def printF1Scores(prec_0, recall_0, f1_0, prec_1, recall_1, f1_1):\n",
    "    print(\"\\nclass 0\")\n",
    "    print(\"Precision: \", prec_0)\n",
    "    print(\"Recall: \", recall_0)\n",
    "    print(\"F1-Score: \", f1_0)\n",
    "\n",
    "    print(\"\\nclass 1\")\n",
    "    print(\"Precision: \", prec_1)\n",
    "    print(\"Recall: \", recall_1)\n",
    "    print(\"F1-Score: \", f1_1)\n",
    "\n",
    "    print(\"\\nAverage\")\n",
    "    print(\"Precision: \", (prec_0 + prec_1)/2)\n",
    "    print(\"Recall: \", (recall_0 + recall_1)/2)\n",
    "    print(\"F1-Score: \", (f1_0 + f1_1)/2)"
   ]
  },
  {
   "cell_type": "code",
   "execution_count": 5,
   "metadata": {},
   "outputs": [],
   "source": [
    "data = df.values\n",
    "X = df.drop('Class',axis = 1)\n",
    "Y = df['Class']"
   ]
  },
  {
   "cell_type": "code",
   "execution_count": 6,
   "metadata": {},
   "outputs": [],
   "source": [
    "from sklearn.model_selection import train_test_split"
   ]
  },
  {
   "cell_type": "code",
   "execution_count": 7,
   "metadata": {},
   "outputs": [],
   "source": [
    "X_train, X_test, y_train, y_test = train_test_split(X, \n",
    "                                                    Y, \n",
    "                                                    test_size=0.2, \n",
    "                                                    random_state=101) \n",
    "X_train = X_train.values\n",
    "X_validation = X_test.values\n",
    "y_train = pd.get_dummies(y_train).values\n",
    "y_validation = pd.get_dummies(y_test).values"
   ]
  },
  {
   "cell_type": "code",
   "execution_count": 8,
   "metadata": {},
   "outputs": [],
   "source": [
    "import tensorflow as tf\n",
    "from  tensorflow import keras\n",
    "from tensorflow.keras.models import Model\n",
    "from tensorflow.keras.layers import BatchNormalization, Dense, Dropout, Input\n",
    "from tensorflow.keras.optimizers import Adam"
   ]
  },
  {
   "cell_type": "code",
   "execution_count": 9,
   "metadata": {},
   "outputs": [],
   "source": [
    "inputs = Input(shape=(30,))"
   ]
  },
  {
   "cell_type": "code",
   "execution_count": 10,
   "metadata": {},
   "outputs": [],
   "source": [
    "x = keras.layers.Dense(\n",
    "    32, kernel_initializer='he_uniform')(inputs)\n",
    "x = keras.layers.BatchNormalization()(x)\n",
    "x = keras.layers.LeakyReLU()(x)\n",
    "\n",
    "x = keras.layers.Dense(\n",
    "    32, kernel_initializer='he_uniform')(x)\n",
    "x = keras.layers.BatchNormalization()(x)\n",
    "x = keras.layers.LeakyReLU()(x)"
   ]
  },
  {
   "cell_type": "code",
   "execution_count": 11,
   "metadata": {},
   "outputs": [],
   "source": [
    "outputs = keras.layers.Dense(2, activation='softmax')(x)"
   ]
  },
  {
   "cell_type": "code",
   "execution_count": 12,
   "metadata": {},
   "outputs": [],
   "source": [
    "model = keras.models.Model(inputs, outputs)\n",
    "model.compile(optimizer=keras.optimizers.Adam(\n",
    "    10**-5), loss='categorical_crossentropy', metrics=['accuracy'])"
   ]
  },
  {
   "cell_type": "code",
   "execution_count": 13,
   "metadata": {},
   "outputs": [
    {
     "name": "stdout",
     "output_type": "stream",
     "text": [
      "Train on 1120 samples, validate on 280 samples\n",
      "Epoch 1/256\n",
      "1120/1120 [==============================] - 2s 1ms/sample - loss: 0.9799 - accuracy: 0.3446 - val_loss: 1.0375 - val_accuracy: 0.5179\n",
      "Epoch 2/256\n",
      "1120/1120 [==============================] - 0s 62us/sample - loss: 0.9658 - accuracy: 0.3562 - val_loss: 0.9630 - val_accuracy: 0.5321\n",
      "Epoch 3/256\n",
      "1120/1120 [==============================] - 0s 52us/sample - loss: 0.9573 - accuracy: 0.3473 - val_loss: 0.9239 - val_accuracy: 0.5321\n",
      "Epoch 4/256\n",
      "1120/1120 [==============================] - 0s 52us/sample - loss: 0.9547 - accuracy: 0.3616 - val_loss: 0.9018 - val_accuracy: 0.5321\n",
      "Epoch 5/256\n",
      "1120/1120 [==============================] - 0s 49us/sample - loss: 0.9405 - accuracy: 0.3616 - val_loss: 0.8872 - val_accuracy: 0.5286\n",
      "Epoch 6/256\n",
      "1120/1120 [==============================] - 0s 53us/sample - loss: 0.9320 - accuracy: 0.3821 - val_loss: 0.8775 - val_accuracy: 0.5286\n",
      "Epoch 7/256\n",
      "1120/1120 [==============================] - 0s 53us/sample - loss: 0.9402 - accuracy: 0.3768 - val_loss: 0.8710 - val_accuracy: 0.5250\n",
      "Epoch 8/256\n",
      "1120/1120 [==============================] - 0s 53us/sample - loss: 0.9332 - accuracy: 0.3839 - val_loss: 0.8648 - val_accuracy: 0.5214\n",
      "Epoch 9/256\n",
      "1120/1120 [==============================] - 0s 54us/sample - loss: 0.9289 - accuracy: 0.3777 - val_loss: 0.8615 - val_accuracy: 0.5179\n",
      "Epoch 10/256\n",
      "1120/1120 [==============================] - 0s 51us/sample - loss: 0.9297 - accuracy: 0.3884 - val_loss: 0.8578 - val_accuracy: 0.5179\n",
      "Epoch 11/256\n",
      "1120/1120 [==============================] - 0s 53us/sample - loss: 0.9199 - accuracy: 0.3911 - val_loss: 0.8550 - val_accuracy: 0.5143\n",
      "Epoch 12/256\n",
      "1120/1120 [==============================] - 0s 54us/sample - loss: 0.9128 - accuracy: 0.3929 - val_loss: 0.8523 - val_accuracy: 0.5143\n",
      "Epoch 13/256\n",
      "1120/1120 [==============================] - 0s 53us/sample - loss: 0.9033 - accuracy: 0.4062 - val_loss: 0.8496 - val_accuracy: 0.5143\n",
      "Epoch 14/256\n",
      "1120/1120 [==============================] - 0s 52us/sample - loss: 0.9063 - accuracy: 0.3920 - val_loss: 0.8475 - val_accuracy: 0.5179\n",
      "Epoch 15/256\n",
      "1120/1120 [==============================] - 0s 51us/sample - loss: 0.8940 - accuracy: 0.4018 - val_loss: 0.8445 - val_accuracy: 0.5179\n",
      "Epoch 16/256\n",
      "1120/1120 [==============================] - 0s 51us/sample - loss: 0.9004 - accuracy: 0.4116 - val_loss: 0.8423 - val_accuracy: 0.5179\n",
      "Epoch 17/256\n",
      "1120/1120 [==============================] - 0s 54us/sample - loss: 0.8823 - accuracy: 0.4179 - val_loss: 0.8396 - val_accuracy: 0.5143\n",
      "Epoch 18/256\n",
      "1120/1120 [==============================] - 0s 54us/sample - loss: 0.8752 - accuracy: 0.4214 - val_loss: 0.8377 - val_accuracy: 0.5143\n",
      "Epoch 19/256\n",
      "1120/1120 [==============================] - 0s 52us/sample - loss: 0.8756 - accuracy: 0.4339 - val_loss: 0.8349 - val_accuracy: 0.5107\n",
      "Epoch 20/256\n",
      "1120/1120 [==============================] - 0s 51us/sample - loss: 0.8786 - accuracy: 0.4286 - val_loss: 0.8322 - val_accuracy: 0.5143\n",
      "Epoch 21/256\n",
      "1120/1120 [==============================] - 0s 50us/sample - loss: 0.8748 - accuracy: 0.4241 - val_loss: 0.8286 - val_accuracy: 0.5143\n",
      "Epoch 22/256\n",
      "1120/1120 [==============================] - 0s 51us/sample - loss: 0.8586 - accuracy: 0.4339 - val_loss: 0.8253 - val_accuracy: 0.5179\n",
      "Epoch 23/256\n",
      "1120/1120 [==============================] - 0s 51us/sample - loss: 0.8639 - accuracy: 0.4554 - val_loss: 0.8220 - val_accuracy: 0.5179\n",
      "Epoch 24/256\n",
      "1120/1120 [==============================] - 0s 51us/sample - loss: 0.8630 - accuracy: 0.4366 - val_loss: 0.8197 - val_accuracy: 0.5214\n",
      "Epoch 25/256\n",
      "1120/1120 [==============================] - 0s 51us/sample - loss: 0.8486 - accuracy: 0.4446 - val_loss: 0.8160 - val_accuracy: 0.5214\n",
      "Epoch 26/256\n",
      "1120/1120 [==============================] - 0s 52us/sample - loss: 0.8406 - accuracy: 0.4545 - val_loss: 0.8127 - val_accuracy: 0.5214\n",
      "Epoch 27/256\n",
      "1120/1120 [==============================] - 0s 52us/sample - loss: 0.8346 - accuracy: 0.4634 - val_loss: 0.8094 - val_accuracy: 0.5214\n",
      "Epoch 28/256\n",
      "1120/1120 [==============================] - 0s 52us/sample - loss: 0.8310 - accuracy: 0.4777 - val_loss: 0.8060 - val_accuracy: 0.5286\n",
      "Epoch 29/256\n",
      "1120/1120 [==============================] - 0s 52us/sample - loss: 0.8279 - accuracy: 0.4679 - val_loss: 0.8031 - val_accuracy: 0.5321\n",
      "Epoch 30/256\n",
      "1120/1120 [==============================] - 0s 53us/sample - loss: 0.8283 - accuracy: 0.4634 - val_loss: 0.7999 - val_accuracy: 0.5357\n",
      "Epoch 31/256\n",
      "1120/1120 [==============================] - 0s 54us/sample - loss: 0.8186 - accuracy: 0.4821 - val_loss: 0.7966 - val_accuracy: 0.5393\n",
      "Epoch 32/256\n",
      "1120/1120 [==============================] - 0s 54us/sample - loss: 0.8195 - accuracy: 0.4938 - val_loss: 0.7935 - val_accuracy: 0.5393\n",
      "Epoch 33/256\n",
      "1120/1120 [==============================] - 0s 54us/sample - loss: 0.8118 - accuracy: 0.4902 - val_loss: 0.7899 - val_accuracy: 0.5393\n",
      "Epoch 34/256\n",
      "1120/1120 [==============================] - 0s 54us/sample - loss: 0.7988 - accuracy: 0.5107 - val_loss: 0.7868 - val_accuracy: 0.5429\n",
      "Epoch 35/256\n",
      "1120/1120 [==============================] - 0s 54us/sample - loss: 0.8167 - accuracy: 0.4812 - val_loss: 0.7834 - val_accuracy: 0.5429\n",
      "Epoch 36/256\n",
      "1120/1120 [==============================] - 0s 52us/sample - loss: 0.7990 - accuracy: 0.4893 - val_loss: 0.7800 - val_accuracy: 0.5536\n",
      "Epoch 37/256\n",
      "1120/1120 [==============================] - 0s 53us/sample - loss: 0.7951 - accuracy: 0.4991 - val_loss: 0.7767 - val_accuracy: 0.5571\n",
      "Epoch 38/256\n",
      "1120/1120 [==============================] - 0s 54us/sample - loss: 0.7995 - accuracy: 0.5054 - val_loss: 0.7733 - val_accuracy: 0.5571\n",
      "Epoch 39/256\n",
      "1120/1120 [==============================] - 0s 53us/sample - loss: 0.7917 - accuracy: 0.5179 - val_loss: 0.7700 - val_accuracy: 0.5679\n",
      "Epoch 40/256\n",
      "1120/1120 [==============================] - 0s 50us/sample - loss: 0.7851 - accuracy: 0.5214 - val_loss: 0.7663 - val_accuracy: 0.5714\n",
      "Epoch 41/256\n",
      "1120/1120 [==============================] - 0s 48us/sample - loss: 0.7781 - accuracy: 0.5321 - val_loss: 0.7632 - val_accuracy: 0.5714\n",
      "Epoch 42/256\n",
      "1120/1120 [==============================] - 0s 48us/sample - loss: 0.7685 - accuracy: 0.5232 - val_loss: 0.7595 - val_accuracy: 0.5714\n",
      "Epoch 43/256\n",
      "1120/1120 [==============================] - 0s 50us/sample - loss: 0.7750 - accuracy: 0.5348 - val_loss: 0.7565 - val_accuracy: 0.5750\n",
      "Epoch 44/256\n",
      "1120/1120 [==============================] - 0s 52us/sample - loss: 0.7725 - accuracy: 0.5411 - val_loss: 0.7529 - val_accuracy: 0.5821\n",
      "Epoch 45/256\n",
      "1120/1120 [==============================] - 0s 53us/sample - loss: 0.7605 - accuracy: 0.5437 - val_loss: 0.7498 - val_accuracy: 0.5893\n",
      "Epoch 46/256\n",
      "1120/1120 [==============================] - 0s 50us/sample - loss: 0.7620 - accuracy: 0.5411 - val_loss: 0.7459 - val_accuracy: 0.5893\n",
      "Epoch 47/256\n",
      "1120/1120 [==============================] - 0s 52us/sample - loss: 0.7651 - accuracy: 0.5518 - val_loss: 0.7428 - val_accuracy: 0.5893\n",
      "Epoch 48/256\n",
      "1120/1120 [==============================] - 0s 53us/sample - loss: 0.7457 - accuracy: 0.5562 - val_loss: 0.7390 - val_accuracy: 0.5929\n",
      "Epoch 49/256\n",
      "1120/1120 [==============================] - 0s 53us/sample - loss: 0.7556 - accuracy: 0.5598 - val_loss: 0.7349 - val_accuracy: 0.5929\n",
      "Epoch 50/256\n",
      "1120/1120 [==============================] - 0s 53us/sample - loss: 0.7369 - accuracy: 0.5732 - val_loss: 0.7321 - val_accuracy: 0.5929\n",
      "Epoch 51/256\n",
      "1120/1120 [==============================] - 0s 50us/sample - loss: 0.7394 - accuracy: 0.5688 - val_loss: 0.7289 - val_accuracy: 0.6000\n",
      "Epoch 52/256\n",
      "1120/1120 [==============================] - 0s 53us/sample - loss: 0.7343 - accuracy: 0.5732 - val_loss: 0.7256 - val_accuracy: 0.6071\n",
      "Epoch 53/256\n",
      "1120/1120 [==============================] - 0s 52us/sample - loss: 0.7319 - accuracy: 0.5679 - val_loss: 0.7224 - val_accuracy: 0.6107\n",
      "Epoch 54/256\n",
      "1120/1120 [==============================] - 0s 51us/sample - loss: 0.7341 - accuracy: 0.5750 - val_loss: 0.7187 - val_accuracy: 0.6107\n",
      "Epoch 55/256\n",
      "1120/1120 [==============================] - 0s 49us/sample - loss: 0.7302 - accuracy: 0.5795 - val_loss: 0.7149 - val_accuracy: 0.6179\n"
     ]
    },
    {
     "name": "stdout",
     "output_type": "stream",
     "text": [
      "Epoch 56/256\n",
      "1120/1120 [==============================] - 0s 52us/sample - loss: 0.7219 - accuracy: 0.5929 - val_loss: 0.7120 - val_accuracy: 0.6250\n",
      "Epoch 57/256\n",
      "1120/1120 [==============================] - 0s 52us/sample - loss: 0.7194 - accuracy: 0.5813 - val_loss: 0.7093 - val_accuracy: 0.6321\n",
      "Epoch 58/256\n",
      "1120/1120 [==============================] - 0s 51us/sample - loss: 0.7214 - accuracy: 0.6018 - val_loss: 0.7059 - val_accuracy: 0.6357\n",
      "Epoch 59/256\n",
      "1120/1120 [==============================] - 0s 49us/sample - loss: 0.7103 - accuracy: 0.6009 - val_loss: 0.7028 - val_accuracy: 0.6357\n",
      "Epoch 60/256\n",
      "1120/1120 [==============================] - 0s 51us/sample - loss: 0.7036 - accuracy: 0.6009 - val_loss: 0.7002 - val_accuracy: 0.6357\n",
      "Epoch 61/256\n",
      "1120/1120 [==============================] - 0s 50us/sample - loss: 0.7122 - accuracy: 0.6000 - val_loss: 0.6979 - val_accuracy: 0.6393\n",
      "Epoch 62/256\n",
      "1120/1120 [==============================] - 0s 51us/sample - loss: 0.7013 - accuracy: 0.6089 - val_loss: 0.6949 - val_accuracy: 0.6429\n",
      "Epoch 63/256\n",
      "1120/1120 [==============================] - 0s 50us/sample - loss: 0.6950 - accuracy: 0.6116 - val_loss: 0.6916 - val_accuracy: 0.6429\n",
      "Epoch 64/256\n",
      "1120/1120 [==============================] - 0s 50us/sample - loss: 0.6897 - accuracy: 0.6241 - val_loss: 0.6885 - val_accuracy: 0.6429\n",
      "Epoch 65/256\n",
      "1120/1120 [==============================] - 0s 51us/sample - loss: 0.6937 - accuracy: 0.6286 - val_loss: 0.6857 - val_accuracy: 0.6500\n",
      "Epoch 66/256\n",
      "1120/1120 [==============================] - 0s 51us/sample - loss: 0.6856 - accuracy: 0.6161 - val_loss: 0.6828 - val_accuracy: 0.6536\n",
      "Epoch 67/256\n",
      "1120/1120 [==============================] - 0s 53us/sample - loss: 0.6825 - accuracy: 0.6268 - val_loss: 0.6797 - val_accuracy: 0.6536\n",
      "Epoch 68/256\n",
      "1120/1120 [==============================] - 0s 54us/sample - loss: 0.6810 - accuracy: 0.6304 - val_loss: 0.6767 - val_accuracy: 0.6536\n",
      "Epoch 69/256\n",
      "1120/1120 [==============================] - 0s 56us/sample - loss: 0.6775 - accuracy: 0.6357 - val_loss: 0.6737 - val_accuracy: 0.6536\n",
      "Epoch 70/256\n",
      "1120/1120 [==============================] - 0s 55us/sample - loss: 0.6718 - accuracy: 0.6473 - val_loss: 0.6703 - val_accuracy: 0.6571\n",
      "Epoch 71/256\n",
      "1120/1120 [==============================] - 0s 50us/sample - loss: 0.6712 - accuracy: 0.6438 - val_loss: 0.6672 - val_accuracy: 0.6571\n",
      "Epoch 72/256\n",
      "1120/1120 [==============================] - 0s 51us/sample - loss: 0.6684 - accuracy: 0.6330 - val_loss: 0.6643 - val_accuracy: 0.6643\n",
      "Epoch 73/256\n",
      "1120/1120 [==============================] - 0s 54us/sample - loss: 0.6622 - accuracy: 0.6545 - val_loss: 0.6612 - val_accuracy: 0.6714\n",
      "Epoch 74/256\n",
      "1120/1120 [==============================] - 0s 55us/sample - loss: 0.6535 - accuracy: 0.6518 - val_loss: 0.6584 - val_accuracy: 0.6750\n",
      "Epoch 75/256\n",
      "1120/1120 [==============================] - 0s 53us/sample - loss: 0.6593 - accuracy: 0.6634 - val_loss: 0.6559 - val_accuracy: 0.6750\n",
      "Epoch 76/256\n",
      "1120/1120 [==============================] - 0s 51us/sample - loss: 0.6549 - accuracy: 0.6652 - val_loss: 0.6530 - val_accuracy: 0.6750\n",
      "Epoch 77/256\n",
      "1120/1120 [==============================] - 0s 51us/sample - loss: 0.6501 - accuracy: 0.6518 - val_loss: 0.6504 - val_accuracy: 0.6750\n",
      "Epoch 78/256\n",
      "1120/1120 [==============================] - 0s 52us/sample - loss: 0.6443 - accuracy: 0.6589 - val_loss: 0.6473 - val_accuracy: 0.6786\n",
      "Epoch 79/256\n",
      "1120/1120 [==============================] - 0s 51us/sample - loss: 0.6433 - accuracy: 0.6750 - val_loss: 0.6450 - val_accuracy: 0.6857\n",
      "Epoch 80/256\n",
      "1120/1120 [==============================] - 0s 52us/sample - loss: 0.6348 - accuracy: 0.6839 - val_loss: 0.6421 - val_accuracy: 0.6857\n",
      "Epoch 81/256\n",
      "1120/1120 [==============================] - 0s 52us/sample - loss: 0.6426 - accuracy: 0.6670 - val_loss: 0.6393 - val_accuracy: 0.6857\n",
      "Epoch 82/256\n",
      "1120/1120 [==============================] - 0s 51us/sample - loss: 0.6350 - accuracy: 0.6705 - val_loss: 0.6364 - val_accuracy: 0.6857\n",
      "Epoch 83/256\n",
      "1120/1120 [==============================] - 0s 51us/sample - loss: 0.6308 - accuracy: 0.6848 - val_loss: 0.6335 - val_accuracy: 0.6929\n",
      "Epoch 84/256\n",
      "1120/1120 [==============================] - 0s 52us/sample - loss: 0.6346 - accuracy: 0.6893 - val_loss: 0.6305 - val_accuracy: 0.6964\n",
      "Epoch 85/256\n",
      "1120/1120 [==============================] - 0s 52us/sample - loss: 0.6317 - accuracy: 0.6857 - val_loss: 0.6279 - val_accuracy: 0.6964\n",
      "Epoch 86/256\n",
      "1120/1120 [==============================] - 0s 49us/sample - loss: 0.6158 - accuracy: 0.7018 - val_loss: 0.6253 - val_accuracy: 0.7036\n",
      "Epoch 87/256\n",
      "1120/1120 [==============================] - 0s 51us/sample - loss: 0.6204 - accuracy: 0.6902 - val_loss: 0.6227 - val_accuracy: 0.7071\n",
      "Epoch 88/256\n",
      "1120/1120 [==============================] - 0s 52us/sample - loss: 0.6212 - accuracy: 0.6964 - val_loss: 0.6197 - val_accuracy: 0.7071\n",
      "Epoch 89/256\n",
      "1120/1120 [==============================] - 0s 51us/sample - loss: 0.6179 - accuracy: 0.7071 - val_loss: 0.6167 - val_accuracy: 0.7143\n",
      "Epoch 90/256\n",
      "1120/1120 [==============================] - 0s 49us/sample - loss: 0.6150 - accuracy: 0.7027 - val_loss: 0.6140 - val_accuracy: 0.7143\n",
      "Epoch 91/256\n",
      "1120/1120 [==============================] - 0s 51us/sample - loss: 0.6058 - accuracy: 0.7125 - val_loss: 0.6111 - val_accuracy: 0.7179\n",
      "Epoch 92/256\n",
      "1120/1120 [==============================] - 0s 51us/sample - loss: 0.6074 - accuracy: 0.7071 - val_loss: 0.6084 - val_accuracy: 0.7286\n",
      "Epoch 93/256\n",
      "1120/1120 [==============================] - 0s 52us/sample - loss: 0.6020 - accuracy: 0.7179 - val_loss: 0.6060 - val_accuracy: 0.7286\n",
      "Epoch 94/256\n",
      "1120/1120 [==============================] - 0s 51us/sample - loss: 0.5955 - accuracy: 0.7134 - val_loss: 0.6034 - val_accuracy: 0.7286\n",
      "Epoch 95/256\n",
      "1120/1120 [==============================] - 0s 52us/sample - loss: 0.6019 - accuracy: 0.7170 - val_loss: 0.6014 - val_accuracy: 0.7286\n",
      "Epoch 96/256\n",
      "1120/1120 [==============================] - 0s 51us/sample - loss: 0.5946 - accuracy: 0.7286 - val_loss: 0.5991 - val_accuracy: 0.7286\n",
      "Epoch 97/256\n",
      "1120/1120 [==============================] - 0s 51us/sample - loss: 0.5923 - accuracy: 0.7241 - val_loss: 0.5968 - val_accuracy: 0.7357\n",
      "Epoch 98/256\n",
      "1120/1120 [==============================] - 0s 51us/sample - loss: 0.5875 - accuracy: 0.7304 - val_loss: 0.5942 - val_accuracy: 0.7393\n",
      "Epoch 99/256\n",
      "1120/1120 [==============================] - 0s 54us/sample - loss: 0.5858 - accuracy: 0.7312 - val_loss: 0.5918 - val_accuracy: 0.7393\n",
      "Epoch 100/256\n",
      "1120/1120 [==============================] - 0s 52us/sample - loss: 0.5862 - accuracy: 0.7295 - val_loss: 0.5892 - val_accuracy: 0.7393\n",
      "Epoch 101/256\n",
      "1120/1120 [==============================] - 0s 54us/sample - loss: 0.5884 - accuracy: 0.7384 - val_loss: 0.5871 - val_accuracy: 0.7500\n",
      "Epoch 102/256\n",
      "1120/1120 [==============================] - 0s 54us/sample - loss: 0.5838 - accuracy: 0.7402 - val_loss: 0.5849 - val_accuracy: 0.7571\n",
      "Epoch 103/256\n",
      "1120/1120 [==============================] - 0s 51us/sample - loss: 0.5777 - accuracy: 0.7473 - val_loss: 0.5824 - val_accuracy: 0.7607\n",
      "Epoch 104/256\n",
      "1120/1120 [==============================] - 0s 53us/sample - loss: 0.5792 - accuracy: 0.7527 - val_loss: 0.5802 - val_accuracy: 0.7607\n",
      "Epoch 105/256\n",
      "1120/1120 [==============================] - 0s 52us/sample - loss: 0.5711 - accuracy: 0.7527 - val_loss: 0.5782 - val_accuracy: 0.7643\n",
      "Epoch 106/256\n",
      "1120/1120 [==============================] - 0s 53us/sample - loss: 0.5744 - accuracy: 0.7482 - val_loss: 0.5755 - val_accuracy: 0.7643\n",
      "Epoch 107/256\n",
      "1120/1120 [==============================] - 0s 54us/sample - loss: 0.5707 - accuracy: 0.7339 - val_loss: 0.5733 - val_accuracy: 0.7643\n",
      "Epoch 108/256\n",
      "1120/1120 [==============================] - 0s 53us/sample - loss: 0.5644 - accuracy: 0.7429 - val_loss: 0.5714 - val_accuracy: 0.7679\n",
      "Epoch 109/256\n",
      "1120/1120 [==============================] - 0s 53us/sample - loss: 0.5642 - accuracy: 0.7420 - val_loss: 0.5690 - val_accuracy: 0.7679\n",
      "Epoch 110/256\n",
      "1120/1120 [==============================] - 0s 54us/sample - loss: 0.5581 - accuracy: 0.7607 - val_loss: 0.5663 - val_accuracy: 0.7714\n"
     ]
    },
    {
     "name": "stdout",
     "output_type": "stream",
     "text": [
      "Epoch 111/256\n",
      "1120/1120 [==============================] - 0s 52us/sample - loss: 0.5570 - accuracy: 0.7446 - val_loss: 0.5643 - val_accuracy: 0.7750\n",
      "Epoch 112/256\n",
      "1120/1120 [==============================] - 0s 54us/sample - loss: 0.5504 - accuracy: 0.7607 - val_loss: 0.5623 - val_accuracy: 0.7750\n",
      "Epoch 113/256\n",
      "1120/1120 [==============================] - 0s 54us/sample - loss: 0.5490 - accuracy: 0.7571 - val_loss: 0.5597 - val_accuracy: 0.7786\n",
      "Epoch 114/256\n",
      "1120/1120 [==============================] - 0s 53us/sample - loss: 0.5521 - accuracy: 0.7580 - val_loss: 0.5573 - val_accuracy: 0.7786\n",
      "Epoch 115/256\n",
      "1120/1120 [==============================] - 0s 54us/sample - loss: 0.5502 - accuracy: 0.7598 - val_loss: 0.5553 - val_accuracy: 0.7786\n",
      "Epoch 116/256\n",
      "1120/1120 [==============================] - 0s 52us/sample - loss: 0.5474 - accuracy: 0.7563 - val_loss: 0.5532 - val_accuracy: 0.7821\n",
      "Epoch 117/256\n",
      "1120/1120 [==============================] - 0s 51us/sample - loss: 0.5382 - accuracy: 0.7714 - val_loss: 0.5506 - val_accuracy: 0.7857\n",
      "Epoch 118/256\n",
      "1120/1120 [==============================] - 0s 52us/sample - loss: 0.5340 - accuracy: 0.7714 - val_loss: 0.5481 - val_accuracy: 0.7893\n",
      "Epoch 119/256\n",
      "1120/1120 [==============================] - 0s 52us/sample - loss: 0.5327 - accuracy: 0.7804 - val_loss: 0.5457 - val_accuracy: 0.7929\n",
      "Epoch 120/256\n",
      "1120/1120 [==============================] - 0s 52us/sample - loss: 0.5351 - accuracy: 0.7839 - val_loss: 0.5436 - val_accuracy: 0.7929\n",
      "Epoch 121/256\n",
      "1120/1120 [==============================] - 0s 54us/sample - loss: 0.5367 - accuracy: 0.7741 - val_loss: 0.5414 - val_accuracy: 0.7964\n",
      "Epoch 122/256\n",
      "1120/1120 [==============================] - 0s 51us/sample - loss: 0.5223 - accuracy: 0.7875 - val_loss: 0.5386 - val_accuracy: 0.7964\n",
      "Epoch 123/256\n",
      "1120/1120 [==============================] - 0s 53us/sample - loss: 0.5352 - accuracy: 0.7812 - val_loss: 0.5363 - val_accuracy: 0.7964\n",
      "Epoch 124/256\n",
      "1120/1120 [==============================] - 0s 53us/sample - loss: 0.5288 - accuracy: 0.7768 - val_loss: 0.5345 - val_accuracy: 0.7964\n",
      "Epoch 125/256\n",
      "1120/1120 [==============================] - 0s 53us/sample - loss: 0.5171 - accuracy: 0.7866 - val_loss: 0.5324 - val_accuracy: 0.7964\n",
      "Epoch 126/256\n",
      "1120/1120 [==============================] - 0s 54us/sample - loss: 0.5183 - accuracy: 0.8018 - val_loss: 0.5304 - val_accuracy: 0.8000\n",
      "Epoch 127/256\n",
      "1120/1120 [==============================] - 0s 53us/sample - loss: 0.5172 - accuracy: 0.7937 - val_loss: 0.5281 - val_accuracy: 0.8000\n",
      "Epoch 128/256\n",
      "1120/1120 [==============================] - 0s 52us/sample - loss: 0.5051 - accuracy: 0.7839 - val_loss: 0.5259 - val_accuracy: 0.8000\n",
      "Epoch 129/256\n",
      "1120/1120 [==============================] - 0s 53us/sample - loss: 0.5129 - accuracy: 0.8009 - val_loss: 0.5240 - val_accuracy: 0.8036\n",
      "Epoch 130/256\n",
      "1120/1120 [==============================] - 0s 53us/sample - loss: 0.5156 - accuracy: 0.8000 - val_loss: 0.5221 - val_accuracy: 0.8036\n",
      "Epoch 131/256\n",
      "1120/1120 [==============================] - 0s 53us/sample - loss: 0.5099 - accuracy: 0.8054 - val_loss: 0.5201 - val_accuracy: 0.8036\n",
      "Epoch 132/256\n",
      "1120/1120 [==============================] - 0s 54us/sample - loss: 0.5081 - accuracy: 0.7946 - val_loss: 0.5177 - val_accuracy: 0.8107\n",
      "Epoch 133/256\n",
      "1120/1120 [==============================] - 0s 52us/sample - loss: 0.5019 - accuracy: 0.8080 - val_loss: 0.5155 - val_accuracy: 0.8179\n",
      "Epoch 134/256\n",
      "1120/1120 [==============================] - 0s 53us/sample - loss: 0.5028 - accuracy: 0.8036 - val_loss: 0.5136 - val_accuracy: 0.8179\n",
      "Epoch 135/256\n",
      "1120/1120 [==============================] - 0s 54us/sample - loss: 0.4993 - accuracy: 0.8027 - val_loss: 0.5116 - val_accuracy: 0.8179\n",
      "Epoch 136/256\n",
      "1120/1120 [==============================] - 0s 54us/sample - loss: 0.5040 - accuracy: 0.8098 - val_loss: 0.5095 - val_accuracy: 0.8179\n",
      "Epoch 137/256\n",
      "1120/1120 [==============================] - 0s 53us/sample - loss: 0.4925 - accuracy: 0.7973 - val_loss: 0.5077 - val_accuracy: 0.8214\n",
      "Epoch 138/256\n",
      "1120/1120 [==============================] - 0s 54us/sample - loss: 0.4906 - accuracy: 0.8205 - val_loss: 0.5054 - val_accuracy: 0.8250\n",
      "Epoch 139/256\n",
      "1120/1120 [==============================] - 0s 54us/sample - loss: 0.4994 - accuracy: 0.8089 - val_loss: 0.5036 - val_accuracy: 0.8250\n",
      "Epoch 140/256\n",
      "1120/1120 [==============================] - 0s 53us/sample - loss: 0.4894 - accuracy: 0.8188 - val_loss: 0.5018 - val_accuracy: 0.8214\n",
      "Epoch 141/256\n",
      "1120/1120 [==============================] - 0s 54us/sample - loss: 0.4941 - accuracy: 0.8143 - val_loss: 0.4999 - val_accuracy: 0.8214\n",
      "Epoch 142/256\n",
      "1120/1120 [==============================] - 0s 53us/sample - loss: 0.4884 - accuracy: 0.8161 - val_loss: 0.4977 - val_accuracy: 0.8214\n",
      "Epoch 143/256\n",
      "1120/1120 [==============================] - 0s 52us/sample - loss: 0.4822 - accuracy: 0.8161 - val_loss: 0.4954 - val_accuracy: 0.8214\n",
      "Epoch 144/256\n",
      "1120/1120 [==============================] - 0s 52us/sample - loss: 0.4862 - accuracy: 0.8232 - val_loss: 0.4938 - val_accuracy: 0.8214\n",
      "Epoch 145/256\n",
      "1120/1120 [==============================] - 0s 53us/sample - loss: 0.4843 - accuracy: 0.8179 - val_loss: 0.4920 - val_accuracy: 0.8214\n",
      "Epoch 146/256\n",
      "1120/1120 [==============================] - 0s 54us/sample - loss: 0.4801 - accuracy: 0.8268 - val_loss: 0.4901 - val_accuracy: 0.8250\n",
      "Epoch 147/256\n",
      "1120/1120 [==============================] - 0s 54us/sample - loss: 0.4730 - accuracy: 0.8286 - val_loss: 0.4880 - val_accuracy: 0.8250\n",
      "Epoch 148/256\n",
      "1120/1120 [==============================] - 0s 55us/sample - loss: 0.4800 - accuracy: 0.8205 - val_loss: 0.4865 - val_accuracy: 0.8250\n",
      "Epoch 149/256\n",
      "1120/1120 [==============================] - 0s 53us/sample - loss: 0.4749 - accuracy: 0.8268 - val_loss: 0.4852 - val_accuracy: 0.8250\n",
      "Epoch 150/256\n",
      "1120/1120 [==============================] - 0s 53us/sample - loss: 0.4715 - accuracy: 0.8313 - val_loss: 0.4832 - val_accuracy: 0.8250\n",
      "Epoch 151/256\n",
      "1120/1120 [==============================] - 0s 53us/sample - loss: 0.4700 - accuracy: 0.8232 - val_loss: 0.4815 - val_accuracy: 0.8250\n",
      "Epoch 152/256\n",
      "1120/1120 [==============================] - 0s 53us/sample - loss: 0.4779 - accuracy: 0.8277 - val_loss: 0.4800 - val_accuracy: 0.8250\n",
      "Epoch 153/256\n",
      "1120/1120 [==============================] - 0s 53us/sample - loss: 0.4680 - accuracy: 0.8277 - val_loss: 0.4785 - val_accuracy: 0.8250\n",
      "Epoch 154/256\n",
      "1120/1120 [==============================] - 0s 53us/sample - loss: 0.4627 - accuracy: 0.8366 - val_loss: 0.4765 - val_accuracy: 0.8250\n",
      "Epoch 155/256\n",
      "1120/1120 [==============================] - 0s 53us/sample - loss: 0.4691 - accuracy: 0.8241 - val_loss: 0.4748 - val_accuracy: 0.8250\n",
      "Epoch 156/256\n",
      "1120/1120 [==============================] - 0s 54us/sample - loss: 0.4563 - accuracy: 0.8321 - val_loss: 0.4735 - val_accuracy: 0.8286\n",
      "Epoch 157/256\n",
      "1120/1120 [==============================] - 0s 54us/sample - loss: 0.4581 - accuracy: 0.8330 - val_loss: 0.4714 - val_accuracy: 0.8250\n",
      "Epoch 158/256\n",
      "1120/1120 [==============================] - 0s 53us/sample - loss: 0.4647 - accuracy: 0.8241 - val_loss: 0.4700 - val_accuracy: 0.8250\n",
      "Epoch 159/256\n",
      "1120/1120 [==============================] - 0s 54us/sample - loss: 0.4534 - accuracy: 0.8473 - val_loss: 0.4683 - val_accuracy: 0.8321\n",
      "Epoch 160/256\n",
      "1120/1120 [==============================] - 0s 54us/sample - loss: 0.4540 - accuracy: 0.8438 - val_loss: 0.4664 - val_accuracy: 0.8357\n",
      "Epoch 161/256\n",
      "1120/1120 [==============================] - 0s 53us/sample - loss: 0.4561 - accuracy: 0.8438 - val_loss: 0.4648 - val_accuracy: 0.8357\n",
      "Epoch 162/256\n",
      "1120/1120 [==============================] - 0s 51us/sample - loss: 0.4508 - accuracy: 0.8438 - val_loss: 0.4630 - val_accuracy: 0.8357\n",
      "Epoch 163/256\n",
      "1120/1120 [==============================] - 0s 54us/sample - loss: 0.4456 - accuracy: 0.8491 - val_loss: 0.4613 - val_accuracy: 0.8357\n",
      "Epoch 164/256\n",
      "1120/1120 [==============================] - 0s 53us/sample - loss: 0.4399 - accuracy: 0.8518 - val_loss: 0.4595 - val_accuracy: 0.8357\n",
      "Epoch 165/256\n"
     ]
    },
    {
     "name": "stdout",
     "output_type": "stream",
     "text": [
      "1120/1120 [==============================] - 0s 54us/sample - loss: 0.4439 - accuracy: 0.8393 - val_loss: 0.4575 - val_accuracy: 0.8357\n",
      "Epoch 166/256\n",
      "1120/1120 [==============================] - 0s 55us/sample - loss: 0.4443 - accuracy: 0.8491 - val_loss: 0.4561 - val_accuracy: 0.8357\n",
      "Epoch 167/256\n",
      "1120/1120 [==============================] - 0s 54us/sample - loss: 0.4428 - accuracy: 0.8491 - val_loss: 0.4544 - val_accuracy: 0.8357\n",
      "Epoch 168/256\n",
      "1120/1120 [==============================] - 0s 54us/sample - loss: 0.4406 - accuracy: 0.8527 - val_loss: 0.4528 - val_accuracy: 0.8357\n",
      "Epoch 169/256\n",
      "1120/1120 [==============================] - 0s 53us/sample - loss: 0.4399 - accuracy: 0.8482 - val_loss: 0.4516 - val_accuracy: 0.8357\n",
      "Epoch 170/256\n",
      "1120/1120 [==============================] - 0s 53us/sample - loss: 0.4406 - accuracy: 0.8554 - val_loss: 0.4501 - val_accuracy: 0.8357\n",
      "Epoch 171/256\n",
      "1120/1120 [==============================] - 0s 54us/sample - loss: 0.4393 - accuracy: 0.8491 - val_loss: 0.4486 - val_accuracy: 0.8357\n",
      "Epoch 172/256\n",
      "1120/1120 [==============================] - 0s 53us/sample - loss: 0.4305 - accuracy: 0.8527 - val_loss: 0.4471 - val_accuracy: 0.8357\n",
      "Epoch 173/256\n",
      "1120/1120 [==============================] - 0s 54us/sample - loss: 0.4290 - accuracy: 0.8500 - val_loss: 0.4457 - val_accuracy: 0.8357\n",
      "Epoch 174/256\n",
      "1120/1120 [==============================] - 0s 53us/sample - loss: 0.4281 - accuracy: 0.8473 - val_loss: 0.4442 - val_accuracy: 0.8357\n",
      "Epoch 175/256\n",
      "1120/1120 [==============================] - 0s 53us/sample - loss: 0.4302 - accuracy: 0.8652 - val_loss: 0.4426 - val_accuracy: 0.8357\n",
      "Epoch 176/256\n",
      "1120/1120 [==============================] - 0s 54us/sample - loss: 0.4253 - accuracy: 0.8598 - val_loss: 0.4410 - val_accuracy: 0.8357\n",
      "Epoch 177/256\n",
      "1120/1120 [==============================] - 0s 54us/sample - loss: 0.4215 - accuracy: 0.8536 - val_loss: 0.4395 - val_accuracy: 0.8357\n",
      "Epoch 178/256\n",
      "1120/1120 [==============================] - 0s 54us/sample - loss: 0.4229 - accuracy: 0.8625 - val_loss: 0.4379 - val_accuracy: 0.8357\n",
      "Epoch 179/256\n",
      "1120/1120 [==============================] - 0s 54us/sample - loss: 0.4324 - accuracy: 0.8446 - val_loss: 0.4364 - val_accuracy: 0.8357\n",
      "Epoch 180/256\n",
      "1120/1120 [==============================] - 0s 52us/sample - loss: 0.4152 - accuracy: 0.8616 - val_loss: 0.4353 - val_accuracy: 0.8357\n",
      "Epoch 181/256\n",
      "1120/1120 [==============================] - ETA: 0s - loss: 0.4053 - accuracy: 0.86 - 0s 54us/sample - loss: 0.4145 - accuracy: 0.8643 - val_loss: 0.4338 - val_accuracy: 0.8357\n",
      "Epoch 182/256\n",
      "1120/1120 [==============================] - 0s 53us/sample - loss: 0.4172 - accuracy: 0.8607 - val_loss: 0.4324 - val_accuracy: 0.8357\n",
      "Epoch 183/256\n",
      "1120/1120 [==============================] - 0s 52us/sample - loss: 0.4125 - accuracy: 0.8652 - val_loss: 0.4309 - val_accuracy: 0.8429\n",
      "Epoch 184/256\n",
      "1120/1120 [==============================] - 0s 54us/sample - loss: 0.4217 - accuracy: 0.8607 - val_loss: 0.4293 - val_accuracy: 0.8429\n",
      "Epoch 185/256\n",
      "1120/1120 [==============================] - 0s 54us/sample - loss: 0.4154 - accuracy: 0.8625 - val_loss: 0.4279 - val_accuracy: 0.8429\n",
      "Epoch 186/256\n",
      "1120/1120 [==============================] - 0s 54us/sample - loss: 0.4153 - accuracy: 0.8616 - val_loss: 0.4264 - val_accuracy: 0.8429\n",
      "Epoch 187/256\n",
      "1120/1120 [==============================] - 0s 54us/sample - loss: 0.4111 - accuracy: 0.8687 - val_loss: 0.4248 - val_accuracy: 0.8429\n",
      "Epoch 188/256\n",
      "1120/1120 [==============================] - 0s 54us/sample - loss: 0.4106 - accuracy: 0.8750 - val_loss: 0.4232 - val_accuracy: 0.8429\n",
      "Epoch 189/256\n",
      "1120/1120 [==============================] - 0s 53us/sample - loss: 0.4055 - accuracy: 0.8732 - val_loss: 0.4216 - val_accuracy: 0.8429\n",
      "Epoch 190/256\n",
      "1120/1120 [==============================] - 0s 52us/sample - loss: 0.4064 - accuracy: 0.8687 - val_loss: 0.4204 - val_accuracy: 0.8464\n",
      "Epoch 191/256\n",
      "1120/1120 [==============================] - 0s 54us/sample - loss: 0.4065 - accuracy: 0.8580 - val_loss: 0.4188 - val_accuracy: 0.8500\n",
      "Epoch 192/256\n",
      "1120/1120 [==============================] - 0s 53us/sample - loss: 0.4029 - accuracy: 0.8714 - val_loss: 0.4171 - val_accuracy: 0.8536\n",
      "Epoch 193/256\n",
      "1120/1120 [==============================] - 0s 53us/sample - loss: 0.4059 - accuracy: 0.8696 - val_loss: 0.4161 - val_accuracy: 0.8536\n",
      "Epoch 194/256\n",
      "1120/1120 [==============================] - 0s 52us/sample - loss: 0.4088 - accuracy: 0.8545 - val_loss: 0.4149 - val_accuracy: 0.8536\n",
      "Epoch 195/256\n",
      "1120/1120 [==============================] - 0s 53us/sample - loss: 0.3998 - accuracy: 0.8714 - val_loss: 0.4133 - val_accuracy: 0.8536\n",
      "Epoch 196/256\n",
      "1120/1120 [==============================] - 0s 52us/sample - loss: 0.3928 - accuracy: 0.8643 - val_loss: 0.4119 - val_accuracy: 0.8536\n",
      "Epoch 197/256\n",
      "1120/1120 [==============================] - 0s 53us/sample - loss: 0.3983 - accuracy: 0.8661 - val_loss: 0.4105 - val_accuracy: 0.8536\n",
      "Epoch 198/256\n",
      "1120/1120 [==============================] - 0s 53us/sample - loss: 0.3980 - accuracy: 0.8696 - val_loss: 0.4095 - val_accuracy: 0.8536\n",
      "Epoch 199/256\n",
      "1120/1120 [==============================] - 0s 54us/sample - loss: 0.3881 - accuracy: 0.8804 - val_loss: 0.4082 - val_accuracy: 0.8536\n",
      "Epoch 200/256\n",
      "1120/1120 [==============================] - 0s 52us/sample - loss: 0.3917 - accuracy: 0.8705 - val_loss: 0.4069 - val_accuracy: 0.8571\n",
      "Epoch 201/256\n",
      "1120/1120 [==============================] - 0s 51us/sample - loss: 0.3961 - accuracy: 0.8723 - val_loss: 0.4057 - val_accuracy: 0.8571\n",
      "Epoch 202/256\n",
      "1120/1120 [==============================] - 0s 52us/sample - loss: 0.3924 - accuracy: 0.8634 - val_loss: 0.4043 - val_accuracy: 0.8571\n",
      "Epoch 203/256\n",
      "1120/1120 [==============================] - 0s 54us/sample - loss: 0.3858 - accuracy: 0.8839 - val_loss: 0.4027 - val_accuracy: 0.8571\n",
      "Epoch 204/256\n",
      "1120/1120 [==============================] - 0s 55us/sample - loss: 0.3882 - accuracy: 0.8804 - val_loss: 0.4016 - val_accuracy: 0.8607\n",
      "Epoch 205/256\n",
      "1120/1120 [==============================] - 0s 54us/sample - loss: 0.3941 - accuracy: 0.8732 - val_loss: 0.4003 - val_accuracy: 0.8607\n",
      "Epoch 206/256\n",
      "1120/1120 [==============================] - 0s 54us/sample - loss: 0.3934 - accuracy: 0.8732 - val_loss: 0.3992 - val_accuracy: 0.8607\n",
      "Epoch 207/256\n",
      "1120/1120 [==============================] - 0s 54us/sample - loss: 0.3838 - accuracy: 0.8813 - val_loss: 0.3978 - val_accuracy: 0.8607\n",
      "Epoch 208/256\n",
      "1120/1120 [==============================] - 0s 54us/sample - loss: 0.3865 - accuracy: 0.8884 - val_loss: 0.3966 - val_accuracy: 0.8607\n",
      "Epoch 209/256\n",
      "1120/1120 [==============================] - 0s 52us/sample - loss: 0.3806 - accuracy: 0.8795 - val_loss: 0.3952 - val_accuracy: 0.8643\n",
      "Epoch 210/256\n",
      "1120/1120 [==============================] - 0s 54us/sample - loss: 0.3760 - accuracy: 0.8839 - val_loss: 0.3937 - val_accuracy: 0.8643\n",
      "Epoch 211/256\n",
      "1120/1120 [==============================] - 0s 54us/sample - loss: 0.3714 - accuracy: 0.8813 - val_loss: 0.3925 - val_accuracy: 0.8643\n",
      "Epoch 212/256\n",
      "1120/1120 [==============================] - 0s 53us/sample - loss: 0.3765 - accuracy: 0.8750 - val_loss: 0.3915 - val_accuracy: 0.8643\n",
      "Epoch 213/256\n",
      "1120/1120 [==============================] - 0s 55us/sample - loss: 0.3731 - accuracy: 0.8866 - val_loss: 0.3901 - val_accuracy: 0.8643\n",
      "Epoch 214/256\n",
      "1120/1120 [==============================] - 0s 54us/sample - loss: 0.3720 - accuracy: 0.8938 - val_loss: 0.3889 - val_accuracy: 0.8643\n",
      "Epoch 215/256\n",
      "1120/1120 [==============================] - 0s 54us/sample - loss: 0.3690 - accuracy: 0.8893 - val_loss: 0.3874 - val_accuracy: 0.8714\n",
      "Epoch 216/256\n",
      "1120/1120 [==============================] - 0s 54us/sample - loss: 0.3739 - accuracy: 0.8857 - val_loss: 0.3863 - val_accuracy: 0.8714\n",
      "Epoch 217/256\n",
      "1120/1120 [==============================] - 0s 55us/sample - loss: 0.3689 - accuracy: 0.8813 - val_loss: 0.3850 - val_accuracy: 0.8714\n",
      "Epoch 218/256\n",
      "1120/1120 [==============================] - 0s 59us/sample - loss: 0.3677 - accuracy: 0.8875 - val_loss: 0.3840 - val_accuracy: 0.8714\n",
      "Epoch 219/256\n"
     ]
    },
    {
     "name": "stdout",
     "output_type": "stream",
     "text": [
      "1120/1120 [==============================] - 0s 57us/sample - loss: 0.3646 - accuracy: 0.8920 - val_loss: 0.3828 - val_accuracy: 0.8714\n",
      "Epoch 220/256\n",
      "1120/1120 [==============================] - 0s 56us/sample - loss: 0.3749 - accuracy: 0.8813 - val_loss: 0.3814 - val_accuracy: 0.8714\n",
      "Epoch 221/256\n",
      "1120/1120 [==============================] - 0s 53us/sample - loss: 0.3689 - accuracy: 0.8884 - val_loss: 0.3803 - val_accuracy: 0.8714\n",
      "Epoch 222/256\n",
      "1120/1120 [==============================] - 0s 57us/sample - loss: 0.3669 - accuracy: 0.8848 - val_loss: 0.3791 - val_accuracy: 0.8714\n",
      "Epoch 223/256\n",
      "1120/1120 [==============================] - 0s 57us/sample - loss: 0.3614 - accuracy: 0.8938 - val_loss: 0.3779 - val_accuracy: 0.8714\n",
      "Epoch 224/256\n",
      "1120/1120 [==============================] - 0s 57us/sample - loss: 0.3618 - accuracy: 0.8893 - val_loss: 0.3767 - val_accuracy: 0.8714\n",
      "Epoch 225/256\n",
      "1120/1120 [==============================] - 0s 58us/sample - loss: 0.3626 - accuracy: 0.8929 - val_loss: 0.3754 - val_accuracy: 0.8714\n",
      "Epoch 226/256\n",
      "1120/1120 [==============================] - 0s 58us/sample - loss: 0.3617 - accuracy: 0.8902 - val_loss: 0.3744 - val_accuracy: 0.8714\n",
      "Epoch 227/256\n",
      "1120/1120 [==============================] - 0s 58us/sample - loss: 0.3562 - accuracy: 0.8929 - val_loss: 0.3733 - val_accuracy: 0.8714\n",
      "Epoch 228/256\n",
      "1120/1120 [==============================] - 0s 55us/sample - loss: 0.3642 - accuracy: 0.8902 - val_loss: 0.3722 - val_accuracy: 0.8714\n",
      "Epoch 229/256\n",
      "1120/1120 [==============================] - 0s 58us/sample - loss: 0.3632 - accuracy: 0.8875 - val_loss: 0.3711 - val_accuracy: 0.8714\n",
      "Epoch 230/256\n",
      "1120/1120 [==============================] - 0s 57us/sample - loss: 0.3605 - accuracy: 0.8902 - val_loss: 0.3700 - val_accuracy: 0.8786\n",
      "Epoch 231/256\n",
      "1120/1120 [==============================] - 0s 55us/sample - loss: 0.3476 - accuracy: 0.8946 - val_loss: 0.3691 - val_accuracy: 0.8786\n",
      "Epoch 232/256\n",
      "1120/1120 [==============================] - 0s 62us/sample - loss: 0.3597 - accuracy: 0.8875 - val_loss: 0.3681 - val_accuracy: 0.8786\n",
      "Epoch 233/256\n",
      "1120/1120 [==============================] - 0s 56us/sample - loss: 0.3500 - accuracy: 0.8929 - val_loss: 0.3668 - val_accuracy: 0.8786\n",
      "Epoch 234/256\n",
      "1120/1120 [==============================] - 0s 54us/sample - loss: 0.3527 - accuracy: 0.8911 - val_loss: 0.3658 - val_accuracy: 0.8786\n",
      "Epoch 235/256\n",
      "1120/1120 [==============================] - 0s 54us/sample - loss: 0.3467 - accuracy: 0.9009 - val_loss: 0.3648 - val_accuracy: 0.8786\n",
      "Epoch 236/256\n",
      "1120/1120 [==============================] - 0s 55us/sample - loss: 0.3488 - accuracy: 0.8982 - val_loss: 0.3637 - val_accuracy: 0.8786\n",
      "Epoch 237/256\n",
      "1120/1120 [==============================] - 0s 54us/sample - loss: 0.3459 - accuracy: 0.8955 - val_loss: 0.3626 - val_accuracy: 0.8786\n",
      "Epoch 238/256\n",
      "1120/1120 [==============================] - 0s 52us/sample - loss: 0.3548 - accuracy: 0.8813 - val_loss: 0.3617 - val_accuracy: 0.8786\n",
      "Epoch 239/256\n",
      "1120/1120 [==============================] - 0s 58us/sample - loss: 0.3513 - accuracy: 0.8884 - val_loss: 0.3609 - val_accuracy: 0.8786\n",
      "Epoch 240/256\n",
      "1120/1120 [==============================] - 0s 62us/sample - loss: 0.3501 - accuracy: 0.8875 - val_loss: 0.3601 - val_accuracy: 0.8786\n",
      "Epoch 241/256\n",
      "1120/1120 [==============================] - 0s 57us/sample - loss: 0.3437 - accuracy: 0.8991 - val_loss: 0.3592 - val_accuracy: 0.8786\n",
      "Epoch 242/256\n",
      "1120/1120 [==============================] - 0s 57us/sample - loss: 0.3451 - accuracy: 0.8920 - val_loss: 0.3582 - val_accuracy: 0.8786\n",
      "Epoch 243/256\n",
      "1120/1120 [==============================] - 0s 57us/sample - loss: 0.3380 - accuracy: 0.9027 - val_loss: 0.3571 - val_accuracy: 0.8786\n",
      "Epoch 244/256\n",
      "1120/1120 [==============================] - 0s 58us/sample - loss: 0.3386 - accuracy: 0.9018 - val_loss: 0.3561 - val_accuracy: 0.8786\n",
      "Epoch 245/256\n",
      "1120/1120 [==============================] - 0s 55us/sample - loss: 0.3383 - accuracy: 0.9009 - val_loss: 0.3551 - val_accuracy: 0.8786\n",
      "Epoch 246/256\n",
      "1120/1120 [==============================] - 0s 54us/sample - loss: 0.3386 - accuracy: 0.8991 - val_loss: 0.3541 - val_accuracy: 0.8786\n",
      "Epoch 247/256\n",
      "1120/1120 [==============================] - 0s 48us/sample - loss: 0.3346 - accuracy: 0.9054 - val_loss: 0.3531 - val_accuracy: 0.8821\n",
      "Epoch 248/256\n",
      "1120/1120 [==============================] - 0s 56us/sample - loss: 0.3359 - accuracy: 0.9009 - val_loss: 0.3523 - val_accuracy: 0.8821\n",
      "Epoch 249/256\n",
      "1120/1120 [==============================] - 0s 55us/sample - loss: 0.3444 - accuracy: 0.8946 - val_loss: 0.3512 - val_accuracy: 0.8857\n",
      "Epoch 250/256\n",
      "1120/1120 [==============================] - 0s 54us/sample - loss: 0.3327 - accuracy: 0.9045 - val_loss: 0.3502 - val_accuracy: 0.8857\n",
      "Epoch 251/256\n",
      "1120/1120 [==============================] - 0s 54us/sample - loss: 0.3396 - accuracy: 0.8946 - val_loss: 0.3494 - val_accuracy: 0.8857\n",
      "Epoch 252/256\n",
      "1120/1120 [==============================] - 0s 54us/sample - loss: 0.3348 - accuracy: 0.9009 - val_loss: 0.3483 - val_accuracy: 0.8857\n",
      "Epoch 253/256\n",
      "1120/1120 [==============================] - 0s 54us/sample - loss: 0.3382 - accuracy: 0.8938 - val_loss: 0.3474 - val_accuracy: 0.8857\n",
      "Epoch 254/256\n",
      "1120/1120 [==============================] - 0s 55us/sample - loss: 0.3345 - accuracy: 0.9027 - val_loss: 0.3464 - val_accuracy: 0.8821\n",
      "Epoch 255/256\n",
      "1120/1120 [==============================] - 0s 54us/sample - loss: 0.3328 - accuracy: 0.9054 - val_loss: 0.3454 - val_accuracy: 0.8821\n",
      "Epoch 256/256\n",
      "1120/1120 [==============================] - 0s 54us/sample - loss: 0.3305 - accuracy: 0.8991 - val_loss: 0.3445 - val_accuracy: 0.8821\n"
     ]
    }
   ],
   "source": [
    "history = model.fit(X_train, y_train, validation_data = (X_validation, y_validation),\n",
    "                    batch_size=128, epochs=256)"
   ]
  },
  {
   "cell_type": "code",
   "execution_count": 14,
   "metadata": {},
   "outputs": [
    {
     "name": "stdout",
     "output_type": "stream",
     "text": [
      "Train_acc: 0.9089286\n",
      "Validation_acc: 0.88214284\n"
     ]
    }
   ],
   "source": [
    "_, train_acc = model.evaluate(X_train, y_train, verbose=0)\n",
    "_, test_acc = model.evaluate(X_validation, y_validation, verbose=0)\n",
    "\n",
    "print('Train_acc: ' + str(train_acc))\n",
    "print('Validation_acc: ' + str(test_acc))"
   ]
  },
  {
   "cell_type": "code",
   "execution_count": 15,
   "metadata": {},
   "outputs": [],
   "source": [
    "acc = history.history['accuracy']\n",
    "val_acc = history.history['val_accuracy']\n",
    "epochs = range(len(acc))"
   ]
  },
  {
   "cell_type": "code",
   "execution_count": 16,
   "metadata": {},
   "outputs": [],
   "source": [
    "import matplotlib.pyplot as plt"
   ]
  },
  {
   "cell_type": "code",
   "execution_count": 17,
   "metadata": {},
   "outputs": [
    {
     "data": {
      "image/png": "[encoded data removed]",
      "text/plain": [
       "<Figure size 432x288 with 1 Axes>"
      ]
     },
     "metadata": {
      "needs_background": "light"
     },
     "output_type": "display_data"
    }
   ],
   "source": [
    "plt.plot(epochs, acc, label=\"train\")\n",
    "plt.plot(epochs, val_acc, label=\"validation\")\n",
    "plt.legend()\n",
    "plt.show()"
   ]
  },
  {
   "cell_type": "code",
   "execution_count": 18,
   "metadata": {},
   "outputs": [],
   "source": [
    "loss = history.history['loss']\n",
    "val_loss = history.history['val_loss']\n"
   ]
  },
  {
   "cell_type": "code",
   "execution_count": 19,
   "metadata": {},
   "outputs": [
    {
     "data": {
      "image/png": "[encoded data removed]",
      "text/plain": [
       "<Figure size 432x288 with 1 Axes>"
      ]
     },
     "metadata": {
      "needs_background": "light"
     },
     "output_type": "display_data"
    }
   ],
   "source": [
    "plt.plot(epochs, loss, label=\"train\")\n",
    "plt.plot(epochs, val_loss, label=\"test\")\n",
    "plt.legend()\n",
    "plt.show()"
   ]
  },
  {
   "cell_type": "code",
   "execution_count": 20,
   "metadata": {},
   "outputs": [],
   "source": [
    "from sklearn.metrics import confusion_matrix\n",
    "import seaborn as sns"
   ]
  },
  {
   "cell_type": "code",
   "execution_count": 21,
   "metadata": {},
   "outputs": [],
   "source": [
    "train_pred = convertOneHotToBinary(model.predict(X_train))\n",
    "y_train_binary = convertOneHotToBinary(y_train)\n",
    "train_matrix = confusion_matrix(y_train_binary, train_pred)"
   ]
  },
  {
   "cell_type": "code",
   "execution_count": 22,
   "metadata": {},
   "outputs": [
    {
     "data": {
      "image/png": "[encoded data removed]",
      "text/plain": [
       "<Figure size 720x504 with 1 Axes>"
      ]
     },
     "metadata": {
      "needs_background": "light"
     },
     "output_type": "display_data"
    }
   ],
   "source": [
    "plt.figure(figsize = (10,7))\n",
    "plt.title(\"train_confusion_matrix\")\n",
    "plt.xlabel('Predict')\n",
    "plt.ylabel('True')\n",
    "train_confusion_matrix = sns.heatmap(train_matrix, \n",
    "                                     annot=True, \n",
    "                                     cbar=False,annot_kws={\"size\": 16}, \n",
    "                                     fmt=\"d\")\n",
    "bottom, top = train_confusion_matrix.get_ylim()\n",
    "train_confusion_matrix.set_ylim(bottom + 0.5, top - 0.5)\n",
    "plt.show()"
   ]
  },
  {
   "cell_type": "code",
   "execution_count": 23,
   "metadata": {},
   "outputs": [],
   "source": [
    "validate_pred = convertOneHotToBinary(model.predict(X_validation))\n",
    "y_validation_binary = convertOneHotToBinary(y_validation)\n",
    "validation_matrix = confusion_matrix(y_validation_binary, validate_pred)"
   ]
  },
  {
   "cell_type": "code",
   "execution_count": 24,
   "metadata": {},
   "outputs": [
    {
     "data": {
      "image/png": "[encoded data removed]",
      "text/plain": [
       "<Figure size 720x504 with 1 Axes>"
      ]
     },
     "metadata": {
      "needs_background": "light"
     },
     "output_type": "display_data"
    }
   ],
   "source": [
    "plt.figure(figsize = (10,7))\n",
    "plt.title(\"validation_confusion_matrix\")\n",
    "plt.xlabel('Predict')\n",
    "plt.ylabel('True')\n",
    "validation_confusion_matrix = sns.heatmap(validation_matrix, \n",
    "                                     annot=True, \n",
    "                                     cbar=False,annot_kws={\"size\": 16}, \n",
    "                                     fmt=\"d\")\n",
    "bottom, top = validation_confusion_matrix.get_ylim()\n",
    "validation_confusion_matrix.set_ylim(bottom + 0.5, top - 0.5)\n",
    "plt.show()"
   ]
  },
  {
   "cell_type": "code",
   "execution_count": 25,
   "metadata": {},
   "outputs": [],
   "source": [
    "from sklearn.metrics import f1_score, precision_score, recall_score"
   ]
  },
  {
   "cell_type": "code",
   "execution_count": 26,
   "metadata": {},
   "outputs": [
    {
     "name": "stdout",
     "output_type": "stream",
     "text": [
      "\n",
      "class 0\n",
      "Precision:  0.8763440860215054\n",
      "Recall:  0.9421965317919075\n",
      "F1-Score:  0.9080779944289694\n",
      "\n",
      "class 1\n",
      "Precision:  0.8936170212765957\n",
      "Recall:  0.7850467289719626\n",
      "F1-Score:  0.8358208955223881\n",
      "\n",
      "Average\n",
      "Precision:  0.8849805536490505\n",
      "Recall:  0.8636216303819351\n",
      "F1-Score:  0.8719494449756788\n"
     ]
    }
   ],
   "source": [
    "prec_0 = precision_score(y_validation_binary, validate_pred, pos_label=0)\n",
    "recall_0 = recall_score(y_validation_binary, validate_pred, pos_label=0)\n",
    "f1_0 = f1_score(y_validation_binary, validate_pred, pos_label=0)\n",
    "\n",
    "prec_1 = precision_score(y_validation_binary, validate_pred)\n",
    "recall_1 = recall_score(y_validation_binary, validate_pred)\n",
    "f1_1 = f1_score(y_validation_binary, validate_pred)\n",
    "\n",
    "printF1Scores(prec_0, recall_0, f1_0, prec_1, recall_1, f1_1)"
   ]
  },
  {
   "cell_type": "code",
   "execution_count": 27,
   "metadata": {},
   "outputs": [],
   "source": [
    "from sklearn import tree\n",
    "clf = tree.DecisionTreeClassifier()\n",
    "clf = clf.fit(X_train,y_train_binary)"
   ]
  },
  {
   "cell_type": "code",
   "execution_count": 28,
   "metadata": {},
   "outputs": [],
   "source": [
    "decision_tree_pred = clf.predict(X_validation)"
   ]
  },
  {
   "cell_type": "code",
   "execution_count": 29,
   "metadata": {},
   "outputs": [
    {
     "name": "stdout",
     "output_type": "stream",
     "text": [
      "\n",
      "class 0\n",
      "Precision:  1.0\n",
      "Recall:  0.9942196531791907\n",
      "F1-Score:  0.9971014492753623\n",
      "\n",
      "class 1\n",
      "Precision:  0.9907407407407407\n",
      "Recall:  1.0\n",
      "F1-Score:  0.9953488372093023\n",
      "\n",
      "Average\n",
      "Precision:  0.9953703703703703\n",
      "Recall:  0.9971098265895953\n",
      "F1-Score:  0.9962251432423324\n"
     ]
    }
   ],
   "source": [
    "prec_0 = precision_score(y_validation_binary, decision_tree_pred, pos_label=0)\n",
    "recall_0 = recall_score(y_validation_binary, decision_tree_pred, pos_label=0)\n",
    "f1_0 = f1_score(y_validation_binary, decision_tree_pred, pos_label=0)\n",
    "\n",
    "prec_1 = precision_score(y_validation_binary, decision_tree_pred)\n",
    "recall_1 = recall_score(y_validation_binary, decision_tree_pred)\n",
    "f1_1 = f1_score(y_validation_binary, decision_tree_pred)\n",
    "\n",
    "printF1Scores(prec_0, recall_0, f1_0, prec_1, recall_1, f1_1)"
   ]
  },
  {
   "cell_type": "code",
   "execution_count": 30,
   "metadata": {},
   "outputs": [],
   "source": [
    "from sklearn.ensemble import RandomForestClassifier"
   ]
  },
  {
   "cell_type": "code",
   "execution_count": 31,
   "metadata": {},
   "outputs": [
    {
     "name": "stderr",
     "output_type": "stream",
     "text": [
      "C:\\Users\\TaiT_\\Anaconda3\\lib\\site-packages\\sklearn\\ensemble\\forest.py:245: FutureWarning: The default value of n_estimators will change from 10 in version 0.20 to 100 in 0.22.\n",
      "  \"10 in version 0.20 to 100 in 0.22.\", FutureWarning)\n"
     ]
    },
    {
     "data": {
      "text/plain": [
       "RandomForestClassifier(bootstrap=True, class_weight=None, criterion='gini',\n",
       "                       max_depth=None, max_features='auto', max_leaf_nodes=None,\n",
       "                       min_impurity_decrease=0.0, min_impurity_split=None,\n",
       "                       min_samples_leaf=1, min_samples_split=2,\n",
       "                       min_weight_fraction_leaf=0.0, n_estimators=10,\n",
       "                       n_jobs=None, oob_score=False, random_state=None,\n",
       "                       verbose=0, warm_start=False)"
      ]
     },
     "execution_count": 31,
     "metadata": {},
     "output_type": "execute_result"
    }
   ],
   "source": [
    "clf_forest = RandomForestClassifier()\n",
    "clf_forest.fit(X_train, y_train_binary)"
   ]
  },
  {
   "cell_type": "code",
   "execution_count": 32,
   "metadata": {},
   "outputs": [],
   "source": [
    "random_forest_pred = clf_forest.predict(X_validation)"
   ]
  },
  {
   "cell_type": "code",
   "execution_count": 33,
   "metadata": {},
   "outputs": [
    {
     "name": "stdout",
     "output_type": "stream",
     "text": [
      "\n",
      "class 0\n",
      "Precision:  0.9771428571428571\n",
      "Recall:  0.9884393063583815\n",
      "F1-Score:  0.9827586206896551\n",
      "\n",
      "class 1\n",
      "Precision:  0.9809523809523809\n",
      "Recall:  0.9626168224299065\n",
      "F1-Score:  0.9716981132075471\n",
      "\n",
      "Average\n",
      "Precision:  0.9790476190476189\n",
      "Recall:  0.975528064394144\n",
      "F1-Score:  0.977228366948601\n"
     ]
    }
   ],
   "source": [
    "prec_0 = precision_score(y_validation_binary, random_forest_pred, pos_label=0)\n",
    "recall_0 = recall_score(y_validation_binary, random_forest_pred, pos_label=0)\n",
    "f1_0 = f1_score(y_validation_binary, random_forest_pred, pos_label=0)\n",
    "\n",
    "prec_1 = precision_score(y_validation_binary, random_forest_pred)\n",
    "recall_1 = recall_score(y_validation_binary, random_forest_pred)\n",
    "f1_1 = f1_score(y_validation_binary, random_forest_pred)\n",
    "\n",
    "printF1Scores(prec_0, recall_0, f1_0, prec_1, recall_1, f1_1)"
   ]
  },
  {
   "cell_type": "code",
   "execution_count": 34,
   "metadata": {},
   "outputs": [],
   "source": [
    "from sklearn.metrics import roc_curve, auc"
   ]
  },
  {
   "cell_type": "code",
   "execution_count": 35,
   "metadata": {},
   "outputs": [],
   "source": [
    "fpr, tpr, thresholds = roc_curve(y_validation_binary,validate_pred)\n",
    "roc_auc = auc(fpr, tpr)"
   ]
  },
  {
   "cell_type": "code",
   "execution_count": 36,
   "metadata": {},
   "outputs": [
    {
     "data": {
      "image/png": "[encoded data removed]",
      "text/plain": [
       "<Figure size 432x288 with 1 Axes>"
      ]
     },
     "metadata": {
      "needs_background": "light"
     },
     "output_type": "display_data"
    }
   ],
   "source": [
    "plt.plot(fpr, tpr, label='AUC = %0.2f' % roc_auc)\n",
    "plt.plot([0, 1], [0, 1], color='red', linestyle='--')\n",
    "plt.xlabel('False Positive Rate')\n",
    "plt.ylabel('True Positive Rate')\n",
    "plt.title('Receiver operating characteristic')\n",
    "plt.legend(loc=\"lower right\")\n",
    "plt.show()"
   ]
  },
  {
   "cell_type": "code",
   "execution_count": 37,
   "metadata": {},
   "outputs": [],
   "source": [
    "from sklearn.metrics import precision_recall_curve, average_precision_score\n",
    "from inspect import signature"
   ]
  },
  {
   "cell_type": "code",
   "execution_count": 38,
   "metadata": {},
   "outputs": [],
   "source": [
    "average_precision = average_precision_score(y_validation_binary\n",
    "                                            , validate_pred)\n",
    "precision, recall, _ = precision_recall_curve(y_validation_binary\n",
    "                                              , validate_pred)"
   ]
  },
  {
   "cell_type": "code",
   "execution_count": 39,
   "metadata": {},
   "outputs": [
    {
     "data": {
      "text/plain": [
       "Text(0.5, 1.0, '2-class Precision-Recall curve: AP=0.78')"
      ]
     },
     "execution_count": 39,
     "metadata": {},
     "output_type": "execute_result"
    },
    {
     "data": {
      "image/png": "[encoded data removed]",
      "text/plain": [
       "<Figure size 432x288 with 1 Axes>"
      ]
     },
     "metadata": {
      "needs_background": "light"
     },
     "output_type": "display_data"
    }
   ],
   "source": [
    "step_kwargs = ({'step': 'post'}\n",
    "               if 'step' in signature(plt.fill_between).parameters\n",
    "               else {})\n",
    "plt.step(recall, precision, color='b', alpha=0.2,\n",
    "         where='post')\n",
    "plt.fill_between(recall, precision, alpha=0.2, color='b', **step_kwargs)\n",
    "\n",
    "plt.xlabel('Recall')\n",
    "plt.ylabel('Precision')\n",
    "plt.ylim([0.0, 1.05])\n",
    "plt.xlim([0.0, 1.0])\n",
    "plt.title('2-class Precision-Recall curve: AP={0:0.2f}'.format(\n",
    "          average_precision))"
   ]
  },
  {
   "cell_type": "code",
   "execution_count": null,
   "metadata": {},
   "outputs": [],
   "source": []
  }
 ],
 "metadata": {
  "kernelspec": {
   "display_name": "Python 3",
   "language": "python",
   "name": "python3"
  },
  "language_info": {
   "codemirror_mode": {
    "name": "ipython",
    "version": 3
   },
   "file_extension": ".py",
   "mimetype": "text/x-python",
   "name": "python",
   "nbconvert_exporter": "python",
   "pygments_lexer": "ipython3",
   "version": "3.7.4"
  }
 },
 "nbformat": 4,
 "nbformat_minor": 2
}
